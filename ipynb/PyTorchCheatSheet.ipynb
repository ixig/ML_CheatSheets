{
 "cells": [
  {
   "cell_type": "code",
   "execution_count": 1,
   "id": "b866c154",
   "metadata": {},
   "outputs": [],
   "source": [
    "import torch\n",
    "import torch.nn as nn\n",
    "from torch.utils.data import Dataset, DataLoader\n",
    "import torchvision\n",
    "import torchvision.transforms as transforms"
   ]
  },
  {
   "cell_type": "markdown",
   "id": "df7d430c",
   "metadata": {},
   "source": [
    "## Creating Tensors"
   ]
  },
  {
   "cell_type": "code",
   "execution_count": 2,
   "id": "1e1d339a",
   "metadata": {},
   "outputs": [
    {
     "data": {
      "text/plain": [
       "(tensor([1.1422e-40, 4.5703e-35]), tensor([1., 1.]), tensor([0., 0.]))"
      ]
     },
     "execution_count": 2,
     "metadata": {},
     "output_type": "execute_result"
    }
   ],
   "source": [
    "torch.empty(2), torch.ones(2), torch.zeros(2)"
   ]
  },
  {
   "cell_type": "code",
   "execution_count": 3,
   "id": "eaf5843f",
   "metadata": {},
   "outputs": [
    {
     "data": {
      "text/plain": [
       "(tensor([0.9261, 0.7819, 0.3198, 0.2448, 0.3161]),\n",
       " tensor([ 0.0261, -1.8937, -1.3276,  2.1708, -1.8366]))"
      ]
     },
     "execution_count": 3,
     "metadata": {},
     "output_type": "execute_result"
    }
   ],
   "source": [
    "torch.rand(5), torch.randn(5)"
   ]
  },
  {
   "cell_type": "code",
   "execution_count": 4,
   "id": "aad08d72",
   "metadata": {},
   "outputs": [
    {
     "data": {
      "text/plain": [
       "tensor(1)"
      ]
     },
     "execution_count": 4,
     "metadata": {},
     "output_type": "execute_result"
    }
   ],
   "source": [
    "t = torch.tensor(1)\n",
    "t"
   ]
  },
  {
   "cell_type": "code",
   "execution_count": 5,
   "id": "e991f2a0",
   "metadata": {},
   "outputs": [
    {
     "data": {
      "text/plain": [
       "tensor([1])"
      ]
     },
     "execution_count": 5,
     "metadata": {},
     "output_type": "execute_result"
    }
   ],
   "source": [
    "t = torch.tensor([1])\n",
    "t"
   ]
  },
  {
   "cell_type": "code",
   "execution_count": 6,
   "id": "f7c86e72",
   "metadata": {},
   "outputs": [
    {
     "data": {
      "text/plain": [
       "torch.int64"
      ]
     },
     "execution_count": 6,
     "metadata": {},
     "output_type": "execute_result"
    }
   ],
   "source": [
    "torch.tensor([1, 2, 3]).dtype"
   ]
  },
  {
   "cell_type": "code",
   "execution_count": 7,
   "id": "cbc0a4d2",
   "metadata": {},
   "outputs": [
    {
     "data": {
      "text/plain": [
       "torch.float32"
      ]
     },
     "execution_count": 7,
     "metadata": {},
     "output_type": "execute_result"
    }
   ],
   "source": [
    "torch.tensor([1.0, 2.0, 3.0]).dtype"
   ]
  },
  {
   "cell_type": "code",
   "execution_count": 8,
   "id": "1be33fcc",
   "metadata": {},
   "outputs": [
    {
     "data": {
      "text/plain": [
       "torch.int32"
      ]
     },
     "execution_count": 8,
     "metadata": {},
     "output_type": "execute_result"
    }
   ],
   "source": [
    "torch.tensor([1], dtype=torch.int32).dtype"
   ]
  },
  {
   "cell_type": "code",
   "execution_count": 9,
   "id": "f4a087e4",
   "metadata": {},
   "outputs": [
    {
     "data": {
      "text/plain": [
       "tensor([1, 2, 3])"
      ]
     },
     "execution_count": 9,
     "metadata": {},
     "output_type": "execute_result"
    }
   ],
   "source": [
    "v = np.array([1, 2, 3])\n",
    "t = torch.from_numpy(v)\n",
    "t"
   ]
  },
  {
   "cell_type": "code",
   "execution_count": 10,
   "id": "dfb444be",
   "metadata": {},
   "outputs": [
    {
     "data": {
      "text/plain": [
       "tensor([2, 3, 4])"
      ]
     },
     "execution_count": 10,
     "metadata": {},
     "output_type": "execute_result"
    }
   ],
   "source": [
    "v += 1\n",
    "t"
   ]
  },
  {
   "cell_type": "code",
   "execution_count": 11,
   "id": "9661de4e",
   "metadata": {},
   "outputs": [
    {
     "data": {
      "text/plain": [
       "array([2, 3, 4])"
      ]
     },
     "execution_count": 11,
     "metadata": {},
     "output_type": "execute_result"
    }
   ],
   "source": [
    "u = t.numpy()\n",
    "u"
   ]
  },
  {
   "cell_type": "code",
   "execution_count": 12,
   "id": "a824a18a",
   "metadata": {},
   "outputs": [
    {
     "data": {
      "text/plain": [
       "array([3, 4, 5])"
      ]
     },
     "execution_count": 12,
     "metadata": {},
     "output_type": "execute_result"
    }
   ],
   "source": [
    "t.add_(1)\n",
    "u"
   ]
  },
  {
   "cell_type": "code",
   "execution_count": 13,
   "id": "ad594c3b",
   "metadata": {},
   "outputs": [
    {
     "data": {
      "text/plain": [
       "tensor([[1, 2, 3],\n",
       "        [4, 5, 6]])"
      ]
     },
     "execution_count": 13,
     "metadata": {},
     "output_type": "execute_result"
    }
   ],
   "source": [
    "t = torch.tensor(range(1,7)).view(-1, 3)\n",
    "t"
   ]
  },
  {
   "cell_type": "markdown",
   "id": "8f1a5d84",
   "metadata": {},
   "source": [
    "## Indexing & Slicing"
   ]
  },
  {
   "cell_type": "code",
   "execution_count": 14,
   "id": "33ef3330",
   "metadata": {},
   "outputs": [
    {
     "data": {
      "text/plain": [
       "tensor([1, 2, 3])"
      ]
     },
     "execution_count": 14,
     "metadata": {},
     "output_type": "execute_result"
    }
   ],
   "source": [
    "t[0]"
   ]
  },
  {
   "cell_type": "code",
   "execution_count": 15,
   "id": "835c0a8a",
   "metadata": {},
   "outputs": [
    {
     "data": {
      "text/plain": [
       "tensor(2)"
      ]
     },
     "execution_count": 15,
     "metadata": {},
     "output_type": "execute_result"
    }
   ],
   "source": [
    "t[0, 1]"
   ]
  },
  {
   "cell_type": "code",
   "execution_count": 16,
   "id": "6f63e076",
   "metadata": {},
   "outputs": [
    {
     "data": {
      "text/plain": [
       "(2, int)"
      ]
     },
     "execution_count": 16,
     "metadata": {},
     "output_type": "execute_result"
    }
   ],
   "source": [
    "s = t[0, 1].item()\n",
    "s, type(s)"
   ]
  },
  {
   "cell_type": "code",
   "execution_count": 17,
   "id": "bff88378",
   "metadata": {},
   "outputs": [
    {
     "data": {
      "text/plain": [
       "(tensor([3, 6]), tensor([4, 5, 6]))"
      ]
     },
     "execution_count": 17,
     "metadata": {},
     "output_type": "execute_result"
    }
   ],
   "source": [
    "t[:, 2], t[1, :]"
   ]
  },
  {
   "cell_type": "markdown",
   "id": "be519ac3",
   "metadata": {},
   "source": [
    "## Arithmetic"
   ]
  },
  {
   "cell_type": "code",
   "execution_count": 18,
   "id": "16de5161",
   "metadata": {},
   "outputs": [
    {
     "data": {
      "text/plain": [
       "tensor([[ 2,  4,  6],\n",
       "        [ 8, 10, 12]])"
      ]
     },
     "execution_count": 18,
     "metadata": {},
     "output_type": "execute_result"
    }
   ],
   "source": [
    "t + t"
   ]
  },
  {
   "cell_type": "code",
   "execution_count": 19,
   "id": "3a4d1ed6",
   "metadata": {},
   "outputs": [
    {
     "data": {
      "text/plain": [
       "tensor([[ 1,  4,  9],\n",
       "        [16, 25, 36]])"
      ]
     },
     "execution_count": 19,
     "metadata": {},
     "output_type": "execute_result"
    }
   ],
   "source": [
    "t * t"
   ]
  },
  {
   "cell_type": "code",
   "execution_count": 20,
   "id": "a837b0fe",
   "metadata": {},
   "outputs": [
    {
     "data": {
      "text/plain": [
       "tensor([[ 1,  4,  9],\n",
       "        [16, 25, 36]])"
      ]
     },
     "execution_count": 20,
     "metadata": {},
     "output_type": "execute_result"
    }
   ],
   "source": [
    "t ** 2"
   ]
  },
  {
   "cell_type": "code",
   "execution_count": 21,
   "id": "ea24dc63",
   "metadata": {},
   "outputs": [
    {
     "data": {
      "text/plain": [
       "tensor([[14, 32],\n",
       "        [32, 77]])"
      ]
     },
     "execution_count": 21,
     "metadata": {},
     "output_type": "execute_result"
    }
   ],
   "source": [
    "t @ t.T  # 2x3 . 3x2 = 2x2"
   ]
  },
  {
   "cell_type": "code",
   "execution_count": 22,
   "id": "8455ab4a",
   "metadata": {},
   "outputs": [
    {
     "data": {
      "text/plain": [
       "tensor([[3, 4, 5],\n",
       "        [6, 7, 8]])"
      ]
     },
     "execution_count": 22,
     "metadata": {},
     "output_type": "execute_result"
    }
   ],
   "source": [
    "t.add(2)"
   ]
  },
  {
   "cell_type": "code",
   "execution_count": 23,
   "id": "70a67a43",
   "metadata": {},
   "outputs": [
    {
     "data": {
      "text/plain": [
       "(tensor([[3, 4, 5],\n",
       "         [6, 7, 8]]),\n",
       " tensor([[3, 4, 5],\n",
       "         [6, 7, 8]]))"
      ]
     },
     "execution_count": 23,
     "metadata": {},
     "output_type": "execute_result"
    }
   ],
   "source": [
    "t.add_(2), t"
   ]
  },
  {
   "cell_type": "markdown",
   "id": "51adf138",
   "metadata": {},
   "source": [
    "## Aggregation"
   ]
  },
  {
   "cell_type": "code",
   "execution_count": 24,
   "id": "6852cfab",
   "metadata": {},
   "outputs": [
    {
     "data": {
      "text/plain": [
       "tensor([[3, 4, 5],\n",
       "        [6, 7, 8]])"
      ]
     },
     "execution_count": 24,
     "metadata": {},
     "output_type": "execute_result"
    }
   ],
   "source": [
    "t"
   ]
  },
  {
   "cell_type": "code",
   "execution_count": 25,
   "id": "c6d34ce5",
   "metadata": {},
   "outputs": [
    {
     "data": {
      "text/plain": [
       "(tensor(8), tensor(8))"
      ]
     },
     "execution_count": 25,
     "metadata": {},
     "output_type": "execute_result"
    }
   ],
   "source": [
    "t.max(), torch.max(t)"
   ]
  },
  {
   "cell_type": "code",
   "execution_count": 26,
   "id": "35bc6d6c",
   "metadata": {},
   "outputs": [
    {
     "data": {
      "text/plain": [
       "(torch.return_types.max(\n",
       " values=tensor([6, 7, 8]),\n",
       " indices=tensor([1, 1, 1])),\n",
       " torch.return_types.min(\n",
       " values=tensor([3, 4, 5]),\n",
       " indices=tensor([0, 0, 0])))"
      ]
     },
     "execution_count": 26,
     "metadata": {},
     "output_type": "execute_result"
    }
   ],
   "source": [
    "t.max(dim=0), t.min(dim=0)"
   ]
  },
  {
   "cell_type": "code",
   "execution_count": 27,
   "id": "3080e10c",
   "metadata": {},
   "outputs": [
    {
     "data": {
      "text/plain": [
       "(tensor([5, 8]), tensor([2, 2]))"
      ]
     },
     "execution_count": 27,
     "metadata": {},
     "output_type": "execute_result"
    }
   ],
   "source": [
    "torch.max(t, dim=1).values, t.max(dim=1).indices"
   ]
  },
  {
   "cell_type": "code",
   "execution_count": 28,
   "id": "c526d7db",
   "metadata": {},
   "outputs": [
    {
     "data": {
      "text/plain": [
       "(tensor([2, 2]),\n",
       " tensor([[2],\n",
       "         [2]]))"
      ]
     },
     "execution_count": 28,
     "metadata": {},
     "output_type": "execute_result"
    }
   ],
   "source": [
    "t.argmax(dim=1), t.argmax(dim=1, keepdim=True)"
   ]
  },
  {
   "cell_type": "markdown",
   "id": "b7fb195f",
   "metadata": {},
   "source": [
    "## AutoGrad"
   ]
  },
  {
   "cell_type": "code",
   "execution_count": 29,
   "id": "1fc16e8e",
   "metadata": {},
   "outputs": [
    {
     "data": {
      "text/plain": [
       "tensor(1., requires_grad=True)"
      ]
     },
     "execution_count": 29,
     "metadata": {},
     "output_type": "execute_result"
    }
   ],
   "source": [
    "t = torch.tensor(1.0, requires_grad=True)\n",
    "t"
   ]
  },
  {
   "cell_type": "code",
   "execution_count": 30,
   "id": "af6ae4ed",
   "metadata": {},
   "outputs": [
    {
     "data": {
      "text/plain": [
       "(tensor(1.), tensor(1., requires_grad=True))"
      ]
     },
     "execution_count": 30,
     "metadata": {},
     "output_type": "execute_result"
    }
   ],
   "source": [
    "t.detach(), t"
   ]
  },
  {
   "cell_type": "code",
   "execution_count": 31,
   "id": "1b73d224",
   "metadata": {},
   "outputs": [
    {
     "data": {
      "text/plain": [
       "(tensor(1.), tensor(1.))"
      ]
     },
     "execution_count": 31,
     "metadata": {},
     "output_type": "execute_result"
    }
   ],
   "source": [
    "t.requires_grad_(False), t"
   ]
  },
  {
   "cell_type": "code",
   "execution_count": 32,
   "id": "2fad35be",
   "metadata": {},
   "outputs": [
    {
     "data": {
      "text/plain": [
       "tensor(6.7500, grad_fn=<MulBackward0>)"
      ]
     },
     "execution_count": 32,
     "metadata": {},
     "output_type": "execute_result"
    }
   ],
   "source": [
    "x = torch.tensor(1.5, requires_grad=True)\n",
    "y = 3*x**2\n",
    "y"
   ]
  },
  {
   "cell_type": "code",
   "execution_count": 33,
   "id": "42286670",
   "metadata": {},
   "outputs": [
    {
     "data": {
      "text/plain": [
       "tensor(9.)"
      ]
     },
     "execution_count": 33,
     "metadata": {},
     "output_type": "execute_result"
    }
   ],
   "source": [
    "y.backward()\n",
    "x.grad"
   ]
  },
  {
   "cell_type": "code",
   "execution_count": 34,
   "id": "a943c4a8",
   "metadata": {},
   "outputs": [
    {
     "data": {
      "text/plain": [
       "(tensor(0.), tensor(0.))"
      ]
     },
     "execution_count": 34,
     "metadata": {},
     "output_type": "execute_result"
    }
   ],
   "source": [
    "x.grad.zero_(), x.grad"
   ]
  },
  {
   "cell_type": "code",
   "execution_count": 35,
   "id": "f3891a3f",
   "metadata": {},
   "outputs": [
    {
     "name": "stdout",
     "output_type": "stream",
     "text": [
      "Exception\n"
     ]
    },
    {
     "data": {
      "text/plain": [
       "(tensor(0.7500), tensor(0.))"
      ]
     },
     "execution_count": 35,
     "metadata": {},
     "output_type": "execute_result"
    }
   ],
   "source": [
    "with torch.no_grad():\n",
    "    z = 0.5*x\n",
    "try:\n",
    "    z.backward()\n",
    "except:\n",
    "    print('Exception')\n",
    "z, x.grad"
   ]
  },
  {
   "cell_type": "markdown",
   "id": "63103473",
   "metadata": {},
   "source": [
    "## nn.CrossEntropyLoss(), nn.NLLLoss()"
   ]
  },
  {
   "cell_type": "code",
   "execution_count": 36,
   "id": "bcf544ec",
   "metadata": {},
   "outputs": [
    {
     "data": {
      "text/plain": [
       "tensor([[0.0900, 0.2447, 0.6652]])"
      ]
     },
     "execution_count": 36,
     "metadata": {},
     "output_type": "execute_result"
    }
   ],
   "source": [
    "logits = torch.tensor([[1.0, 2.0, 3.0]])\n",
    "probs = torch.softmax(logits, dim=-1)\n",
    "probs"
   ]
  },
  {
   "cell_type": "code",
   "execution_count": 37,
   "id": "842ad9d2",
   "metadata": {},
   "outputs": [
    {
     "data": {
      "text/plain": [
       "(tensor(2.4076), tensor(0.4076))"
      ]
     },
     "execution_count": 37,
     "metadata": {},
     "output_type": "execute_result"
    }
   ],
   "source": [
    "ce_loss = nn.CrossEntropyLoss()\n",
    "y0 = torch.tensor([0])\n",
    "y2 = torch.tensor([2])\n",
    "# CrossEntropyLoss()() takes in *logits (NOT probs)* and *class labels*\n",
    "ce_loss(logits, y0), ce_loss(logits, y2)"
   ]
  },
  {
   "cell_type": "code",
   "execution_count": 38,
   "id": "6d96ea6a",
   "metadata": {},
   "outputs": [
    {
     "data": {
      "text/plain": [
       "array([[2.408, 1.408, 0.408]], dtype=float32)"
      ]
     },
     "execution_count": 38,
     "metadata": {},
     "output_type": "execute_result"
    }
   ],
   "source": [
    "-np.log(probs.numpy())"
   ]
  },
  {
   "cell_type": "code",
   "execution_count": 39,
   "id": "5648ef1e",
   "metadata": {},
   "outputs": [
    {
     "data": {
      "text/plain": [
       "(tensor(-0.0900), tensor(-0.6652))"
      ]
     },
     "execution_count": 39,
     "metadata": {},
     "output_type": "execute_result"
    }
   ],
   "source": [
    "nll_loss = nn.NLLLoss()\n",
    "nll_loss(probs, y0), nll_loss(probs, y2)"
   ]
  },
  {
   "cell_type": "markdown",
   "id": "de5a06fb",
   "metadata": {},
   "source": [
    "## nn.BCELoss()"
   ]
  },
  {
   "cell_type": "code",
   "execution_count": 40,
   "id": "89b242d8",
   "metadata": {},
   "outputs": [
    {
     "data": {
      "text/plain": [
       "tensor(2.3026)"
      ]
     },
     "execution_count": 40,
     "metadata": {},
     "output_type": "execute_result"
    }
   ],
   "source": [
    "bce_loss = nn.BCELoss()\n",
    "bce_loss(torch.tensor([0.9]), torch.tensor([0.0]))"
   ]
  },
  {
   "cell_type": "code",
   "execution_count": 41,
   "id": "a05c53dc",
   "metadata": {},
   "outputs": [
    {
     "data": {
      "text/plain": [
       "2.303"
      ]
     },
     "execution_count": 41,
     "metadata": {},
     "output_type": "execute_result"
    }
   ],
   "source": [
    "-(1-0)*np.log(1 - 0.9)"
   ]
  },
  {
   "cell_type": "markdown",
   "id": "452af1ed",
   "metadata": {},
   "source": [
    "## Backpropagation"
   ]
  },
  {
   "cell_type": "code",
   "execution_count": 42,
   "id": "c8968739",
   "metadata": {},
   "outputs": [
    {
     "name": "stdout",
     "output_type": "stream",
     "text": [
      "epoch 10: w = 1.606, loss = 1.60939169\n",
      "epoch 20: w = 1.922, loss = 0.06237914\n",
      "epoch 30: w = 1.985, loss = 0.00241778\n",
      "epoch 40: w = 1.997, loss = 0.00009371\n"
     ]
    }
   ],
   "source": [
    "X = torch.tensor([1, 2, 3, 4], dtype=torch.float32).view(-1, 1)\n",
    "Y = torch.tensor([2, 4, 6, 8], dtype=torch.float32).view(-1, 1)\n",
    "\n",
    "w = torch.tensor([[0.0]], dtype=torch.float32, requires_grad=True)\n",
    "\n",
    "def forward(X, w):\n",
    "    return X @ w  # 4x1 . 1x1 = 4x1\n",
    "\n",
    "def loss(Y_pred, Y):\n",
    "    return ((Y_pred - Y)**2).mean()\n",
    "\n",
    "learning_rate = 0.01\n",
    "\n",
    "for epoch in range(40):\n",
    "    Y_pred = forward(X, w)\n",
    "    j = loss(Y, Y_pred)\n",
    "    j.backward()\n",
    "    with torch.no_grad():\n",
    "        w -= learning_rate * w.grad\n",
    "    w.grad.zero_()\n",
    "\n",
    "    if epoch % 10 == 9:\n",
    "        print(f'epoch {epoch+1}: w = {w.item():.3f}, loss = {j.item():.8f}')"
   ]
  },
  {
   "cell_type": "markdown",
   "id": "0ec6b5e6",
   "metadata": {},
   "source": [
    "## Optimizer & LR-Scheduler"
   ]
  },
  {
   "cell_type": "code",
   "execution_count": 43,
   "id": "8e61b4e6",
   "metadata": {},
   "outputs": [
    {
     "name": "stdout",
     "output_type": "stream",
     "text": [
      "epoch 10: w = 1.606, loss = 1.60939169\n",
      "epoch 20: w = 1.922, loss = 0.06237914\n",
      "epoch 30: w = 1.985, loss = 0.00241778\n",
      "epoch 40: w = 1.997, loss = 0.00009371\n"
     ]
    }
   ],
   "source": [
    "w = torch.tensor([[0.0]], dtype=torch.float32, requires_grad=True)\n",
    "optimizer = torch.optim.SGD([w], lr=learning_rate)\n",
    "\n",
    "loss = nn.MSELoss()\n",
    "\n",
    "for epoch in range(40):\n",
    "    Y_pred = forward(X, w)\n",
    "    j = loss(Y_pred, Y)\n",
    "    j.backward()\n",
    "    optimizer.step()\n",
    "    optimizer.zero_grad()\n",
    "\n",
    "    if epoch % 10 == 9:\n",
    "        print(f'epoch {epoch+1}: w = {w.item():.3f}, loss = {j.item():.8f}')"
   ]
  },
  {
   "cell_type": "code",
   "execution_count": 44,
   "id": "04acbcd8",
   "metadata": {},
   "outputs": [
    {
     "name": "stdout",
     "output_type": "stream",
     "text": [
      "epoch 10: w = 1.999, lr = 0.00000363\n",
      "epoch 20: w = 2.000, lr = 0.00000064\n",
      "epoch 30: w = 2.000, lr = 0.00000028\n"
     ]
    }
   ],
   "source": [
    "lr_scheduler = torch.optim.lr_scheduler.StepLR(optimizer, step_size=10, gamma=0.5)\n",
    "\n",
    "for epoch in range(30):\n",
    "    Y_pred = forward(X, w)\n",
    "    j = loss(Y_pred, Y)\n",
    "    j.backward()\n",
    "    optimizer.step()\n",
    "    optimizer.zero_grad()\n",
    "    lr_scheduler.step()\n",
    "\n",
    "    if epoch % 10 == 9:\n",
    "        lr = optimizer.state_dict()['param_groups'][0]['lr']\n",
    "        print(f'epoch {epoch+1}: w = {w.item():.3f}, lr = {j.item():.8f}')"
   ]
  },
  {
   "cell_type": "markdown",
   "id": "292fe65b",
   "metadata": {},
   "source": [
    "## nn.Linear()"
   ]
  },
  {
   "cell_type": "code",
   "execution_count": 45,
   "id": "c62f7c4d",
   "metadata": {},
   "outputs": [
    {
     "name": "stdout",
     "output_type": "stream",
     "text": [
      "epoch 10: w = 1.948, loss = 0.65129113\n",
      "epoch 20: w = 2.122, loss = 0.05157164\n",
      "epoch 30: w = 2.147, loss = 0.03403451\n",
      "epoch 40: w = 2.147, loss = 0.03167749\n"
     ]
    }
   ],
   "source": [
    "model = nn.Linear(in_features=1, out_features=1)\n",
    "optimizer = torch.optim.SGD(model.parameters(), lr=learning_rate)\n",
    "\n",
    "for epoch in range(40):\n",
    "    Y_pred = model(X)\n",
    "    j = loss(Y_pred, Y)\n",
    "    j.backward()\n",
    "    optimizer.step()\n",
    "    optimizer.zero_grad()\n",
    "\n",
    "    if epoch % 10 == 9:\n",
    "        w, b = model.parameters()  # unpack parameters\n",
    "        print(f'epoch {epoch+1}: w = {w.item():.3f}, loss = {j.item():.8f}')"
   ]
  },
  {
   "cell_type": "code",
   "execution_count": 46,
   "id": "51fa6808",
   "metadata": {},
   "outputs": [
    {
     "data": {
      "text/plain": [
       "tensor([[1.7123],\n",
       "        [3.8591],\n",
       "        [6.0059],\n",
       "        [8.1526]])"
      ]
     },
     "execution_count": 46,
     "metadata": {},
     "output_type": "execute_result"
    }
   ],
   "source": [
    "predicted = model(X).detach()\n",
    "predicted"
   ]
  },
  {
   "cell_type": "code",
   "execution_count": 47,
   "id": "0737c42e",
   "metadata": {},
   "outputs": [
    {
     "data": {
      "text/plain": [
       "tensor([[1.7123],\n",
       "        [3.8591],\n",
       "        [6.0059],\n",
       "        [8.1526]])"
      ]
     },
     "execution_count": 47,
     "metadata": {},
     "output_type": "execute_result"
    }
   ],
   "source": [
    "with torch.no_grad():\n",
    "    predicted = model(X)\n",
    "predicted"
   ]
  },
  {
   "cell_type": "markdown",
   "id": "6e2c5163",
   "metadata": {},
   "source": [
    "## nn.Module, Logistic Regression"
   ]
  },
  {
   "cell_type": "code",
   "execution_count": 48,
   "id": "e27b1fbb",
   "metadata": {},
   "outputs": [
    {
     "name": "stdout",
     "output_type": "stream",
     "text": [
      "epoch 10: loss = 0.58357650\n",
      "epoch 20: loss = 0.47398025\n",
      "epoch 30: loss = 0.40872616\n",
      "epoch 40: loss = 0.35784590\n",
      "epoch 50: loss = 0.31676430\n"
     ]
    }
   ],
   "source": [
    "X = torch.tensor([[2, 1], [1, 2]], dtype=torch.float32)\n",
    "Y = torch.tensor([0, 1], dtype=torch.float32).view(-1, 1)\n",
    "\n",
    "class LogR(nn.Module):\n",
    "    def __init__(self, in_features):\n",
    "        super().__init__()\n",
    "        self.linear = nn.Linear(in_features, 1)\n",
    "\n",
    "    def forward(self, x):\n",
    "        x = self.linear(x)\n",
    "        x = torch.sigmoid(x)\n",
    "        return x\n",
    "\n",
    "model = LogR(X.shape[-1])\n",
    "optimizer = torch.optim.SGD(model.parameters(), lr=0.1)\n",
    "loss = nn.BCELoss()\n",
    "\n",
    "for epoch in range(50):\n",
    "    Y_pred = model(X)\n",
    "    j = loss(Y_pred, Y)\n",
    "    j.backward()\n",
    "    optimizer.step()\n",
    "    optimizer.zero_grad()\n",
    "\n",
    "    if epoch % 10 == 9:\n",
    "        print(f'epoch {epoch+1}: loss = {j.item():.8f}')"
   ]
  },
  {
   "cell_type": "code",
   "execution_count": 49,
   "id": "a3abcc27",
   "metadata": {},
   "outputs": [
    {
     "data": {
      "text/plain": [
       "tensor([[0.2693],\n",
       "        [0.7317]])"
      ]
     },
     "execution_count": 49,
     "metadata": {},
     "output_type": "execute_result"
    }
   ],
   "source": [
    "with torch.no_grad():\n",
    "    Y_pred = model(X)\n",
    "Y_pred"
   ]
  },
  {
   "cell_type": "markdown",
   "id": "24702bb0",
   "metadata": {},
   "source": [
    "## Misc"
   ]
  },
  {
   "cell_type": "code",
   "execution_count": 50,
   "id": "e54b4e9f",
   "metadata": {},
   "outputs": [
    {
     "data": {
      "text/plain": [
       "(tensor([1]), tensor([2]))"
      ]
     },
     "execution_count": 50,
     "metadata": {},
     "output_type": "execute_result"
    }
   ],
   "source": [
    "device = torch.device('cuda:0' if torch.cuda.is_available() else 'cpu')\n",
    "torch.tensor([1], device=device), torch.tensor([2]).to(device)"
   ]
  },
  {
   "cell_type": "markdown",
   "id": "52f9b7dd",
   "metadata": {},
   "source": [
    "## Model Saving & Loading"
   ]
  },
  {
   "cell_type": "code",
   "execution_count": 51,
   "id": "fde2ed66",
   "metadata": {},
   "outputs": [],
   "source": [
    "class Model(nn.Module):\n",
    "    def __init__(self):\n",
    "        super().__init__()\n",
    "        self.linear = nn.Linear(2, 1)\n",
    "\n",
    "    def forward(self, x):\n",
    "        x = self.linear(x)\n",
    "        x = torch.sigmoid(x)\n",
    "        return x"
   ]
  },
  {
   "cell_type": "code",
   "execution_count": 52,
   "id": "ca106e3d",
   "metadata": {},
   "outputs": [
    {
     "name": "stdout",
     "output_type": "stream",
     "text": [
      "Parameter containing:\n",
      "tensor([[-0.0505,  0.6279]], requires_grad=True)\n",
      "Parameter containing:\n",
      "tensor([0.0782], requires_grad=True)\n"
     ]
    }
   ],
   "source": [
    "model = Model()\n",
    "torch.save(model, 'model.pth')\n",
    "# ---\n",
    "model = torch.load('model.pth')\n",
    "model.eval()\n",
    "for param in model.parameters():\n",
    "    print(param)"
   ]
  },
  {
   "cell_type": "code",
   "execution_count": 53,
   "id": "38a0322a",
   "metadata": {},
   "outputs": [
    {
     "name": "stdout",
     "output_type": "stream",
     "text": [
      "OrderedDict([('linear.weight', tensor([[ 0.3975, -0.2836]])), ('linear.bias', tensor([0.2074]))])\n",
      "OrderedDict([('linear.weight', tensor([[ 0.3975, -0.2836]])), ('linear.bias', tensor([0.2074]))])\n"
     ]
    }
   ],
   "source": [
    "model = Model()\n",
    "torch.save(model.state_dict(), 'model_state.pth')\n",
    "print(model.state_dict())\n",
    "# ---\n",
    "model = Model()\n",
    "model.load_state_dict(torch.load('model_state.pth'))\n",
    "# model.load_state_dict(torch.load('model_state.path', map_location=device))\n",
    "model.eval()\n",
    "print(model.state_dict())"
   ]
  },
  {
   "cell_type": "code",
   "execution_count": 54,
   "id": "58ea037b",
   "metadata": {},
   "outputs": [
    {
     "data": {
      "text/plain": [
       "SGD (\n",
       "Parameter Group 0\n",
       "    dampening: 0\n",
       "    lr: 0.1\n",
       "    momentum: 0\n",
       "    nesterov: False\n",
       "    weight_decay: 0\n",
       ")"
      ]
     },
     "execution_count": 54,
     "metadata": {},
     "output_type": "execute_result"
    }
   ],
   "source": [
    "checkpoint = {\n",
    "    \"model_state\": model.state_dict(),\n",
    "    \"optim_state\": optimizer.state_dict()\n",
    "}\n",
    "torch.save(checkpoint, 'checkpoint.pth')\n",
    "# ---\n",
    "model = Model()\n",
    "optimizer = torch.optim.SGD(model.parameters(), lr=0.01)\n",
    "checkpoint = torch.load('checkpoint.pth')\n",
    "model.load_state_dict(checkpoint['model_state'])\n",
    "optimizer.load_state_dict(checkpoint['optim_state'])\n",
    "optimizer"
   ]
  },
  {
   "cell_type": "markdown",
   "id": "50f26d9f",
   "metadata": {},
   "source": [
    "## Dataset & DataLoader"
   ]
  },
  {
   "cell_type": "code",
   "execution_count": 55,
   "id": "5ccd7e88",
   "metadata": {},
   "outputs": [],
   "source": [
    "class MyDataset(Dataset):\n",
    "    def __init__(self):\n",
    "        super().__init__()\n",
    "        self.X = torch.tensor([[2, 1], [1, 2]], dtype=torch.float32)\n",
    "        self.Y = torch.tensor([0, 1], dtype=torch.float32).view(-1, 1)\n",
    "    \n",
    "    def __getitem__(self, idx):\n",
    "        return self.X[idx], self.Y[idx]\n",
    "    \n",
    "    def __len__(self):\n",
    "        return len(self.X)\n",
    "\n",
    "ds = MyDataset()"
   ]
  },
  {
   "cell_type": "code",
   "execution_count": 56,
   "id": "feeba624",
   "metadata": {},
   "outputs": [
    {
     "data": {
      "text/plain": [
       "(2, (tensor([2., 1.]), tensor([0.])))"
      ]
     },
     "execution_count": 56,
     "metadata": {},
     "output_type": "execute_result"
    }
   ],
   "source": [
    "len(ds), ds[0]"
   ]
  },
  {
   "cell_type": "code",
   "execution_count": 57,
   "id": "5909ee15",
   "metadata": {},
   "outputs": [
    {
     "data": {
      "text/plain": [
       "[tensor([[2., 1.],\n",
       "         [1., 2.]]),\n",
       " tensor([[0.],\n",
       "         [1.]])]"
      ]
     },
     "execution_count": 57,
     "metadata": {},
     "output_type": "execute_result"
    }
   ],
   "source": [
    "dl = DataLoader(ds, batch_size=2, shuffle=True)\n",
    "next(iter(dl))"
   ]
  },
  {
   "cell_type": "code",
   "execution_count": 58,
   "id": "02e9b11a",
   "metadata": {},
   "outputs": [
    {
     "name": "stdout",
     "output_type": "stream",
     "text": [
      "epoch 10: loss = 0.74077058\n",
      "epoch 20: loss = 0.61800981\n",
      "epoch 30: loss = 0.52327919\n",
      "epoch 40: loss = 0.44903362\n",
      "epoch 50: loss = 0.39019936\n"
     ]
    }
   ],
   "source": [
    "for epoch in range(50):\n",
    "    for X, Y in dl:\n",
    "        X = X.to(device)\n",
    "        Y = Y.to(device)\n",
    "        Y_pred = model(X)\n",
    "        j = loss(Y_pred, Y)\n",
    "        optimizer.zero_grad()\n",
    "        j.backward()\n",
    "        optimizer.step()\n",
    "\n",
    "    if epoch % 10 == 9:\n",
    "        print(f'epoch {epoch+1}: loss = {j.item():.8f}')"
   ]
  },
  {
   "cell_type": "code",
   "execution_count": 59,
   "id": "071ad48d",
   "metadata": {},
   "outputs": [],
   "source": [
    "# ds = torchvision.datasets.ImageFolder(path)"
   ]
  },
  {
   "cell_type": "markdown",
   "id": "63a0d87f",
   "metadata": {},
   "source": [
    "## Torchvision Transforms"
   ]
  },
  {
   "cell_type": "code",
   "execution_count": 60,
   "id": "e0ddde7d",
   "metadata": {},
   "outputs": [],
   "source": [
    "transform = transforms.Compose([transforms.RandomHorizontalFlip(),\n",
    "                                transforms.ToTensor(),\n",
    "                                transforms.Normalize((0.5, 0.5, 0.5), (0.5, 0.5, 0.5))])"
   ]
  },
  {
   "cell_type": "code",
   "execution_count": 61,
   "id": "57e103fc",
   "metadata": {},
   "outputs": [
    {
     "name": "stdout",
     "output_type": "stream",
     "text": [
      "Files already downloaded and verified\n"
     ]
    }
   ],
   "source": [
    "train_dataset = torchvision.datasets.CIFAR10(\n",
    "    root='~/pytorch_datasets', download=True, train=True, transform=transform)"
   ]
  },
  {
   "cell_type": "code",
   "execution_count": 62,
   "id": "ff7eb2dd",
   "metadata": {},
   "outputs": [
    {
     "data": {
      "text/plain": [
       "torch.Size([3, 32, 32])"
      ]
     },
     "execution_count": 62,
     "metadata": {},
     "output_type": "execute_result"
    }
   ],
   "source": [
    "train_dataset[0][0].shape  # NOTE: PyTorch uses Channel-FIRST (TF uses Channel-Last)"
   ]
  },
  {
   "cell_type": "markdown",
   "id": "01f5f6c7",
   "metadata": {},
   "source": [
    "## Transfer Learning"
   ]
  },
  {
   "cell_type": "code",
   "execution_count": 63,
   "id": "cae39384",
   "metadata": {},
   "outputs": [],
   "source": [
    "model = torchvision.models.resnet18(pretrained=True)\n",
    "model.fc = nn.Linear(model.fc.in_features, 10)\n",
    "for param in model.parameters():\n",
    "    param.requires_grad = False"
   ]
  },
  {
   "cell_type": "code",
   "execution_count": null,
   "id": "fc7e84cd",
   "metadata": {},
   "outputs": [],
   "source": []
  }
 ],
 "metadata": {
  "kernelspec": {
   "display_name": "Python 3 (ipykernel)",
   "language": "python",
   "name": "python3"
  },
  "language_info": {
   "codemirror_mode": {
    "name": "ipython",
    "version": 3
   },
   "file_extension": ".py",
   "mimetype": "text/x-python",
   "name": "python",
   "nbconvert_exporter": "python",
   "pygments_lexer": "ipython3",
   "version": "3.9.10"
  }
 },
 "nbformat": 4,
 "nbformat_minor": 5
}
