{
 "cells": [
  {
   "cell_type": "markdown",
   "id": "4e2bd9f1",
   "metadata": {},
   "source": [
    "# Numpy Cheat Sheet"
   ]
  },
  {
   "cell_type": "code",
   "execution_count": 1,
   "id": "d83b824d",
   "metadata": {},
   "outputs": [],
   "source": [
    "import numpy as np"
   ]
  },
  {
   "cell_type": "code",
   "execution_count": 2,
   "id": "9adfe086",
   "metadata": {},
   "outputs": [],
   "source": [
    "%precision 2\n",
    "ipython_plain = get_ipython().display_formatter.formatters['text/plain']\n",
    "ipython_plain.for_type(np.float64, ipython_plain.lookup_by_type(float));"
   ]
  },
  {
   "cell_type": "markdown",
   "id": "8d122116",
   "metadata": {},
   "source": [
    "## Create"
   ]
  },
  {
   "cell_type": "code",
   "execution_count": 3,
   "id": "c7a9445a",
   "metadata": {},
   "outputs": [
    {
     "name": "stdout",
     "output_type": "stream",
     "text": [
      "[0 1 2] int64\n",
      "[0. 1. 2.] float64\n",
      "[1.  1.5 2.  2.5]\n"
     ]
    }
   ],
   "source": [
    "x = np.arange(3)   ; print(x, x.dtype)\n",
    "x = np.arange(3.0) ; print(x, x.dtype)\n",
    "print( np.arange(1, 3, 0.5) )"
   ]
  },
  {
   "cell_type": "code",
   "execution_count": 4,
   "id": "345e2c42",
   "metadata": {},
   "outputs": [
    {
     "data": {
      "text/plain": [
       "array([1, 2, 3])"
      ]
     },
     "execution_count": 4,
     "metadata": {},
     "output_type": "execute_result"
    }
   ],
   "source": [
    "v3 = np.array([1, 2, 3])\n",
    "v3"
   ]
  },
  {
   "cell_type": "code",
   "execution_count": 5,
   "id": "fc0106a0",
   "metadata": {},
   "outputs": [
    {
     "data": {
      "text/plain": [
       "array([[1, 2, 3],\n",
       "       [4, 5, 6],\n",
       "       [7, 8, 9]])"
      ]
     },
     "execution_count": 5,
     "metadata": {},
     "output_type": "execute_result"
    }
   ],
   "source": [
    "m33 = np.array([[1, 2, 3],\n",
    "                [4, 5, 6],\n",
    "                [7, 8, 9]])\n",
    "m33"
   ]
  },
  {
   "cell_type": "code",
   "execution_count": 6,
   "id": "91e08f6c",
   "metadata": {},
   "outputs": [
    {
     "data": {
      "text/plain": [
       "2"
      ]
     },
     "execution_count": 6,
     "metadata": {},
     "output_type": "execute_result"
    }
   ],
   "source": [
    "from scipy.sparse import csr_matrix\n",
    "sparse = csr_matrix(np.array([[0, 0, 1]]))\n",
    "(sparse + sparse)[0, 2]"
   ]
  },
  {
   "cell_type": "code",
   "execution_count": 7,
   "id": "b4e2bd14",
   "metadata": {},
   "outputs": [
    {
     "data": {
      "text/plain": [
       "array([3, 2])"
      ]
     },
     "execution_count": 7,
     "metadata": {},
     "output_type": "execute_result"
    }
   ],
   "source": [
    "v2 = np.array([1, 2])\n",
    "v2a = v2\n",
    "v2a[0] = 3\n",
    "v2\n",
    "# NOTE: Direct assignment results in a reference!"
   ]
  },
  {
   "cell_type": "code",
   "execution_count": 8,
   "id": "6be53aa4",
   "metadata": {},
   "outputs": [
    {
     "data": {
      "text/plain": [
       "array([3, 2])"
      ]
     },
     "execution_count": 8,
     "metadata": {},
     "output_type": "execute_result"
    }
   ],
   "source": [
    "v2b = v2 + 1\n",
    "v2b[0] = 5\n",
    "v2\n",
    "# NOTE: Arithmetic operations results in a copy!"
   ]
  },
  {
   "cell_type": "code",
   "execution_count": 9,
   "id": "d84e615c",
   "metadata": {},
   "outputs": [
    {
     "data": {
      "text/plain": [
       "array([3, 2])"
      ]
     },
     "execution_count": 9,
     "metadata": {},
     "output_type": "execute_result"
    }
   ],
   "source": [
    "v2c = v2.copy()\n",
    "v2c[0] = 0\n",
    "v2"
   ]
  },
  {
   "cell_type": "markdown",
   "id": "d112173c",
   "metadata": {},
   "source": [
    "## Stacking"
   ]
  },
  {
   "cell_type": "code",
   "execution_count": 10,
   "id": "d2375bf8",
   "metadata": {},
   "outputs": [
    {
     "data": {
      "text/plain": [
       "array([[1, 1],\n",
       "       [2, 2],\n",
       "       [3, 3]])"
      ]
     },
     "execution_count": 10,
     "metadata": {},
     "output_type": "execute_result"
    }
   ],
   "source": [
    "np.column_stack((v3, v3))"
   ]
  },
  {
   "cell_type": "code",
   "execution_count": 11,
   "id": "c662519c",
   "metadata": {},
   "outputs": [
    {
     "data": {
      "text/plain": [
       "array([1, 2, 3, 1, 2, 3])"
      ]
     },
     "execution_count": 11,
     "metadata": {},
     "output_type": "execute_result"
    }
   ],
   "source": [
    "np.hstack((v3, v3))"
   ]
  },
  {
   "cell_type": "code",
   "execution_count": 12,
   "id": "9cebc01c",
   "metadata": {},
   "outputs": [
    {
     "data": {
      "text/plain": [
       "array([[1, 2, 3, 1, 2, 3],\n",
       "       [4, 5, 6, 4, 5, 6],\n",
       "       [7, 8, 9, 7, 8, 9]])"
      ]
     },
     "execution_count": 12,
     "metadata": {},
     "output_type": "execute_result"
    }
   ],
   "source": [
    "np.hstack((m33, m33))"
   ]
  },
  {
   "cell_type": "code",
   "execution_count": 13,
   "id": "0291c366",
   "metadata": {},
   "outputs": [
    {
     "data": {
      "text/plain": [
       "array([[1, 2, 3],\n",
       "       [1, 2, 3]])"
      ]
     },
     "execution_count": 13,
     "metadata": {},
     "output_type": "execute_result"
    }
   ],
   "source": [
    "np.vstack((v3, v3))"
   ]
  },
  {
   "cell_type": "markdown",
   "id": "1bb29537",
   "metadata": {},
   "source": [
    "## Describe"
   ]
  },
  {
   "cell_type": "code",
   "execution_count": 14,
   "id": "c60c1047",
   "metadata": {},
   "outputs": [
    {
     "data": {
      "text/plain": [
       "(3, 3)"
      ]
     },
     "execution_count": 14,
     "metadata": {},
     "output_type": "execute_result"
    }
   ],
   "source": [
    "m33.shape"
   ]
  },
  {
   "cell_type": "code",
   "execution_count": 15,
   "id": "fc021080",
   "metadata": {},
   "outputs": [
    {
     "data": {
      "text/plain": [
       "2"
      ]
     },
     "execution_count": 15,
     "metadata": {},
     "output_type": "execute_result"
    }
   ],
   "source": [
    "m33.ndim"
   ]
  },
  {
   "cell_type": "code",
   "execution_count": 16,
   "id": "03dccce1",
   "metadata": {},
   "outputs": [
    {
     "data": {
      "text/plain": [
       "9"
      ]
     },
     "execution_count": 16,
     "metadata": {},
     "output_type": "execute_result"
    }
   ],
   "source": [
    "m33.size"
   ]
  },
  {
   "cell_type": "markdown",
   "id": "1f56178f",
   "metadata": {},
   "source": [
    "## Select"
   ]
  },
  {
   "cell_type": "code",
   "execution_count": 17,
   "id": "30b51a3c",
   "metadata": {},
   "outputs": [
    {
     "data": {
      "text/plain": [
       "3"
      ]
     },
     "execution_count": 17,
     "metadata": {},
     "output_type": "execute_result"
    }
   ],
   "source": [
    "v3[2]"
   ]
  },
  {
   "cell_type": "code",
   "execution_count": 18,
   "id": "728f47fa",
   "metadata": {},
   "outputs": [
    {
     "data": {
      "text/plain": [
       "9"
      ]
     },
     "execution_count": 18,
     "metadata": {},
     "output_type": "execute_result"
    }
   ],
   "source": [
    "m33[2, 2]"
   ]
  },
  {
   "cell_type": "code",
   "execution_count": 19,
   "id": "ebcc74ac",
   "metadata": {},
   "outputs": [
    {
     "name": "stdout",
     "output_type": "stream",
     "text": [
      "[3 6 9]\n",
      "[7 8 9]\n"
     ]
    }
   ],
   "source": [
    "print( m33[:, 2] )\n",
    "print( m33[2, :] )\n",
    "# NOTE: Both Slices Return 1-D *Vectors*"
   ]
  },
  {
   "cell_type": "code",
   "execution_count": 20,
   "id": "b325f1e2",
   "metadata": {
    "scrolled": true
   },
   "outputs": [
    {
     "name": "stdout",
     "output_type": "stream",
     "text": [
      "[[3]\n",
      " [6]\n",
      " [9]]\n",
      "[[7 8 9]]\n"
     ]
    }
   ],
   "source": [
    "print( m33[:, 2:3] )\n",
    "print( m33[2:3, :] )\n",
    "# NOTE: Both Slices Return 2-D *Matrixes*"
   ]
  },
  {
   "cell_type": "code",
   "execution_count": 21,
   "id": "8960a4d4",
   "metadata": {},
   "outputs": [
    {
     "data": {
      "text/plain": [
       "array([4, 5, 6])"
      ]
     },
     "execution_count": 21,
     "metadata": {},
     "output_type": "execute_result"
    }
   ],
   "source": [
    "m33[1]\n",
    "# NOTE: Returns 1-D *Vector*"
   ]
  },
  {
   "cell_type": "code",
   "execution_count": 22,
   "id": "254ea5c2",
   "metadata": {},
   "outputs": [
    {
     "data": {
      "text/plain": [
       "array([[4, 5, 6],\n",
       "       [7, 8, 9]])"
      ]
     },
     "execution_count": 22,
     "metadata": {},
     "output_type": "execute_result"
    }
   ],
   "source": [
    "m33[1:3]\n",
    "# NOTE: Returns 2-D *Matrix*"
   ]
  },
  {
   "cell_type": "code",
   "execution_count": 23,
   "id": "d241fe24",
   "metadata": {},
   "outputs": [
    {
     "name": "stdout",
     "output_type": "stream",
     "text": [
      "[[4 5 6]]\n",
      "[[4 5 6]]\n"
     ]
    }
   ],
   "source": [
    "print( m33[1:2] )\n",
    "print( m33[[1]] )\n",
    "# NOTE: Returns 2-D *Matrix*"
   ]
  },
  {
   "cell_type": "markdown",
   "id": "a9905057",
   "metadata": {},
   "source": [
    "## np.vectorize()"
   ]
  },
  {
   "cell_type": "code",
   "execution_count": 24,
   "id": "87823f8e",
   "metadata": {},
   "outputs": [
    {
     "data": {
      "text/plain": [
       "array([[-1, -2,  0],\n",
       "       [ 0,  0,  0],\n",
       "       [ 0,  0,  0]])"
      ]
     },
     "execution_count": 24,
     "metadata": {},
     "output_type": "execute_result"
    }
   ],
   "source": [
    "vect_fn = np.vectorize(lambda x: -x if x < 3 else 0)\n",
    "vect_fn(m33)"
   ]
  },
  {
   "cell_type": "markdown",
   "id": "5cd46832",
   "metadata": {},
   "source": [
    "## Aggregate"
   ]
  },
  {
   "cell_type": "code",
   "execution_count": 25,
   "id": "f82385be",
   "metadata": {},
   "outputs": [
    {
     "data": {
      "text/plain": [
       "array([[1, 2, 3],\n",
       "       [4, 5, 6],\n",
       "       [7, 8, 9]])"
      ]
     },
     "execution_count": 25,
     "metadata": {},
     "output_type": "execute_result"
    }
   ],
   "source": [
    "m33"
   ]
  },
  {
   "cell_type": "code",
   "execution_count": 26,
   "id": "0bf5b921",
   "metadata": {},
   "outputs": [
    {
     "name": "stdout",
     "output_type": "stream",
     "text": [
      "1\n",
      "9\n"
     ]
    }
   ],
   "source": [
    "print( m33.min() )\n",
    "print( m33.max() )"
   ]
  },
  {
   "cell_type": "code",
   "execution_count": 27,
   "id": "381ac99e",
   "metadata": {},
   "outputs": [
    {
     "name": "stdout",
     "output_type": "stream",
     "text": [
      "[7 8 9]\n",
      "[3 6 9]\n"
     ]
    }
   ],
   "source": [
    "print( m33.max(axis=0) )\n",
    "print( m33.max(axis=1) )\n",
    "# NOTE: Both Return 1-D *Vectors*"
   ]
  },
  {
   "cell_type": "code",
   "execution_count": 28,
   "id": "fbf7c072",
   "metadata": {},
   "outputs": [
    {
     "data": {
      "text/plain": [
       "(5.00, 2.58, 6.67)"
      ]
     },
     "execution_count": 28,
     "metadata": {},
     "output_type": "execute_result"
    }
   ],
   "source": [
    "m33.mean(), m33.std(), m33.var()"
   ]
  },
  {
   "cell_type": "markdown",
   "id": "436d218c",
   "metadata": {},
   "source": [
    "## Reshape"
   ]
  },
  {
   "cell_type": "code",
   "execution_count": 29,
   "id": "d7d0c3c7",
   "metadata": {},
   "outputs": [
    {
     "data": {
      "text/plain": [
       "array([[1, 2, 3],\n",
       "       [4, 5, 6]])"
      ]
     },
     "execution_count": 29,
     "metadata": {},
     "output_type": "execute_result"
    }
   ],
   "source": [
    "m23 = np.array([[1, 2, 3],\n",
    "                [4, 5, 6]])\n",
    "m23"
   ]
  },
  {
   "cell_type": "code",
   "execution_count": 30,
   "id": "952dabda",
   "metadata": {},
   "outputs": [
    {
     "data": {
      "text/plain": [
       "array([[1, 2],\n",
       "       [3, 4],\n",
       "       [5, 6]])"
      ]
     },
     "execution_count": 30,
     "metadata": {},
     "output_type": "execute_result"
    }
   ],
   "source": [
    "m23.reshape(3, 2)\n",
    "# Scan Order: Left-to-Right, Top-to-Bottom"
   ]
  },
  {
   "cell_type": "code",
   "execution_count": 31,
   "id": "e5e0c6e9",
   "metadata": {},
   "outputs": [
    {
     "data": {
      "text/plain": [
       "array([[1, 2, 3, 4, 5, 6]])"
      ]
     },
     "execution_count": 31,
     "metadata": {},
     "output_type": "execute_result"
    }
   ],
   "source": [
    "m23.reshape(1, -1)"
   ]
  },
  {
   "cell_type": "code",
   "execution_count": 32,
   "id": "9be8146a",
   "metadata": {},
   "outputs": [
    {
     "name": "stdout",
     "output_type": "stream",
     "text": [
      "[1 2 3 4 5 6]\n",
      "[1 2 3 4 5 6]\n",
      "[1 2 3 4 5 6]\n"
     ]
    }
   ],
   "source": [
    "print( m23.ravel() )\n",
    "print( m23.reshape(-1) )\n",
    "print( m23.flatten() )\n",
    "# NOTE: All Return 1-D *Vectors*"
   ]
  },
  {
   "cell_type": "code",
   "execution_count": 33,
   "id": "02822b4e",
   "metadata": {},
   "outputs": [
    {
     "data": {
      "text/plain": [
       "array([[1, 4],\n",
       "       [2, 5],\n",
       "       [3, 6]])"
      ]
     },
     "execution_count": 33,
     "metadata": {},
     "output_type": "execute_result"
    }
   ],
   "source": [
    "m23.T"
   ]
  },
  {
   "cell_type": "code",
   "execution_count": 34,
   "id": "bdd13751",
   "metadata": {},
   "outputs": [
    {
     "data": {
      "text/plain": [
       "(array([1, 2, 3]), array([1, 2, 3]))"
      ]
     },
     "execution_count": 34,
     "metadata": {},
     "output_type": "execute_result"
    }
   ],
   "source": [
    "v3, v3.T\n",
    "# NOTE: Vectors *CANNOT* be Transposed!"
   ]
  },
  {
   "cell_type": "code",
   "execution_count": 35,
   "id": "1381249a",
   "metadata": {},
   "outputs": [
    {
     "data": {
      "text/plain": [
       "array([[1, 2, 3]])"
      ]
     },
     "execution_count": 35,
     "metadata": {},
     "output_type": "execute_result"
    }
   ],
   "source": [
    "v3[None]\n",
    "# wrap/encapsulate inside an additional outer dimension"
   ]
  },
  {
   "cell_type": "code",
   "execution_count": 36,
   "id": "0726f506",
   "metadata": {},
   "outputs": [
    {
     "data": {
      "text/plain": [
       "array([[1],\n",
       "       [2],\n",
       "       [3]])"
      ]
     },
     "execution_count": 36,
     "metadata": {},
     "output_type": "execute_result"
    }
   ],
   "source": [
    "v3.reshape(-1, 1)\n",
    "# v3[None].T \n",
    "# convert vector to\" column vector\""
   ]
  },
  {
   "cell_type": "code",
   "execution_count": 37,
   "id": "6b4a7ddf",
   "metadata": {},
   "outputs": [
    {
     "name": "stdout",
     "output_type": "stream",
     "text": [
      "(1, 3, 1)\n",
      "(3,)\n",
      "(3, 1)\n",
      "(1, 3)\n",
      "100\n"
     ]
    }
   ],
   "source": [
    "x = np.array([[[0], [1], [2]]])\n",
    "print( x.shape )\n",
    "print( np.squeeze(x).shape )\n",
    "print( np.squeeze(x, axis=0).shape )\n",
    "print( np.squeeze(x, axis=2).shape )\n",
    "print( np.array([[100]]).squeeze() )\n",
    "# remove axis of length 1"
   ]
  },
  {
   "cell_type": "markdown",
   "id": "b0aebb13",
   "metadata": {},
   "source": [
    "## Linear Algebra"
   ]
  },
  {
   "cell_type": "code",
   "execution_count": 38,
   "id": "9bc61620",
   "metadata": {},
   "outputs": [
    {
     "data": {
      "text/plain": [
       "(array([[1, 2, 3],\n",
       "        [0, 5, 6],\n",
       "        [0, 0, 9]]),\n",
       " array([[1, 0, 0],\n",
       "        [4, 5, 0],\n",
       "        [7, 8, 9]]))"
      ]
     },
     "execution_count": 38,
     "metadata": {},
     "output_type": "execute_result"
    }
   ],
   "source": [
    "np.triu(m33), np.tril(m33)"
   ]
  },
  {
   "cell_type": "code",
   "execution_count": 39,
   "id": "291d4955",
   "metadata": {},
   "outputs": [
    {
     "data": {
      "text/plain": [
       "array([1, 2, 3])"
      ]
     },
     "execution_count": 39,
     "metadata": {},
     "output_type": "execute_result"
    }
   ],
   "source": [
    "v3"
   ]
  },
  {
   "cell_type": "code",
   "execution_count": 40,
   "id": "b5f044ea",
   "metadata": {},
   "outputs": [
    {
     "data": {
      "text/plain": [
       "14"
      ]
     },
     "execution_count": 40,
     "metadata": {},
     "output_type": "execute_result"
    }
   ],
   "source": [
    "v3 @ v3\n",
    "# vector dot product (1*1 + 2*2 + 3*3)"
   ]
  },
  {
   "cell_type": "code",
   "execution_count": 41,
   "id": "cefa9e91",
   "metadata": {},
   "outputs": [
    {
     "data": {
      "text/plain": [
       "array([[ 30,  36,  42],\n",
       "       [ 66,  81,  96],\n",
       "       [102, 126, 150]])"
      ]
     },
     "execution_count": 41,
     "metadata": {},
     "output_type": "execute_result"
    }
   ],
   "source": [
    "m33 @ m33\n",
    "# matrix multiplication"
   ]
  },
  {
   "cell_type": "code",
   "execution_count": 42,
   "id": "51d43ddf",
   "metadata": {},
   "outputs": [
    {
     "data": {
      "text/plain": [
       "array([[ 1,  4,  9],\n",
       "       [16, 25, 36],\n",
       "       [49, 64, 81]])"
      ]
     },
     "execution_count": 42,
     "metadata": {},
     "output_type": "execute_result"
    }
   ],
   "source": [
    "m33 * m33\n",
    "# element-wise multiplication"
   ]
  },
  {
   "cell_type": "code",
   "execution_count": 43,
   "id": "d62c2fe7",
   "metadata": {},
   "outputs": [
    {
     "data": {
      "text/plain": [
       "array([[1. , 0. ],\n",
       "       [0. , 0.5]])"
      ]
     },
     "execution_count": 43,
     "metadata": {},
     "output_type": "execute_result"
    }
   ],
   "source": [
    "np.linalg.inv(np.array([[1,0], [0,2]]))\n",
    "# matrix inverse"
   ]
  },
  {
   "cell_type": "code",
   "execution_count": 44,
   "id": "6b3418f3",
   "metadata": {},
   "outputs": [
    {
     "data": {
      "text/plain": [
       "array([[1. , 0. ],\n",
       "       [0. , 0.5]])"
      ]
     },
     "execution_count": 44,
     "metadata": {},
     "output_type": "execute_result"
    }
   ],
   "source": [
    "np.linalg.pinv(np.array([[1,0], [0,2]]))\n",
    "# matrix pseudo-inverse"
   ]
  },
  {
   "cell_type": "markdown",
   "id": "f364bb59",
   "metadata": {},
   "source": [
    "## Random"
   ]
  },
  {
   "cell_type": "code",
   "execution_count": 45,
   "id": "5bf27766",
   "metadata": {},
   "outputs": [],
   "source": [
    "np.random.seed(0)"
   ]
  },
  {
   "cell_type": "code",
   "execution_count": 46,
   "id": "f8bdda7e",
   "metadata": {},
   "outputs": [
    {
     "data": {
      "text/plain": [
       "array([0.55, 0.72, 0.6 ])"
      ]
     },
     "execution_count": 46,
     "metadata": {},
     "output_type": "execute_result"
    }
   ],
   "source": [
    "np.random.random(3)\n",
    "# uniform between 0.0 and 1.0"
   ]
  },
  {
   "cell_type": "code",
   "execution_count": 47,
   "id": "dd638ed3",
   "metadata": {},
   "outputs": [
    {
     "data": {
      "text/plain": [
       "[1, 1, 2, 0, 2, 0, 0, 0, 2, 1]"
      ]
     },
     "execution_count": 47,
     "metadata": {},
     "output_type": "execute_result"
    }
   ],
   "source": [
    "[np.random.randint(3) for _ in range(10)]\n",
    "# np.random.randint(<max-excl>)"
   ]
  },
  {
   "cell_type": "code",
   "execution_count": 48,
   "id": "9bbf4db1",
   "metadata": {},
   "outputs": [
    {
     "data": {
      "text/plain": [
       "[3, 3, 1, 2, 2, 2, 2, 1, 2, 1]"
      ]
     },
     "execution_count": 48,
     "metadata": {},
     "output_type": "execute_result"
    }
   ],
   "source": [
    "[np.random.randint(1, 4) for _ in range(10)]\n",
    "# np.random.randint(<min-incl>, <max-excl>)"
   ]
  },
  {
   "cell_type": "code",
   "execution_count": 49,
   "id": "06f4894e",
   "metadata": {},
   "outputs": [
    {
     "data": {
      "text/plain": [
       "array([1.08, 4.33, 4.11, 4.48, 4.91, 4.2 , 2.85, 4.12, 1.47, 3.56])"
      ]
     },
     "execution_count": 49,
     "metadata": {},
     "output_type": "execute_result"
    }
   ],
   "source": [
    "np.random.uniform(1, 5, 10)\n",
    "# np.random.uniform(<min>, <max>, <size>)"
   ]
  },
  {
   "cell_type": "code",
   "execution_count": 50,
   "id": "63a66af0",
   "metadata": {},
   "outputs": [
    {
     "data": {
      "text/plain": [
       "array([[2.45, 5.65, 5.86, 4.26],\n",
       "       [7.27, 3.55, 5.05, 4.81],\n",
       "       [6.53, 6.47, 5.15, 5.38]])"
      ]
     },
     "execution_count": 50,
     "metadata": {},
     "output_type": "execute_result"
    }
   ],
   "source": [
    "np.random.normal(5, 1, (3, 4))\n",
    "# np.random.normal(<mean>, <stddev>, <size>)"
   ]
  },
  {
   "cell_type": "code",
   "execution_count": 51,
   "id": "1f08c19a",
   "metadata": {},
   "outputs": [
    {
     "data": {
      "text/plain": [
       "array([3, 1, 2, 2, 2])"
      ]
     },
     "execution_count": 51,
     "metadata": {},
     "output_type": "execute_result"
    }
   ],
   "source": [
    "np.random.choice(v3, size=5, replace=True) \n",
    "# 'replace': with/without replacement"
   ]
  },
  {
   "cell_type": "code",
   "execution_count": 52,
   "id": "94402033",
   "metadata": {},
   "outputs": [
    {
     "data": {
      "text/plain": [
       "array([0, 4, 2, 3, 1])"
      ]
     },
     "execution_count": 52,
     "metadata": {},
     "output_type": "execute_result"
    }
   ],
   "source": [
    "x = np.arange(5)\n",
    "np.random.shuffle(x)\n",
    "x\n",
    "# shuffle *in-place*"
   ]
  },
  {
   "cell_type": "markdown",
   "id": "a422c076",
   "metadata": {},
   "source": [
    "## Filter"
   ]
  },
  {
   "cell_type": "code",
   "execution_count": 53,
   "id": "9afad5b4",
   "metadata": {},
   "outputs": [
    {
     "data": {
      "text/plain": [
       "array([[1, 2, 3],\n",
       "       [4, 5, 6]])"
      ]
     },
     "execution_count": 53,
     "metadata": {},
     "output_type": "execute_result"
    }
   ],
   "source": [
    "m23"
   ]
  },
  {
   "cell_type": "code",
   "execution_count": 54,
   "id": "8cfe387b",
   "metadata": {},
   "outputs": [
    {
     "data": {
      "text/plain": [
       "array([[ True,  True,  True],\n",
       "       [False, False, False]])"
      ]
     },
     "execution_count": 54,
     "metadata": {},
     "output_type": "execute_result"
    }
   ],
   "source": [
    "m23 < 4"
   ]
  },
  {
   "cell_type": "code",
   "execution_count": 55,
   "id": "d16fcfbb",
   "metadata": {},
   "outputs": [
    {
     "data": {
      "text/plain": [
       "array([[ True, False, False],\n",
       "       [False,  True,  True]])"
      ]
     },
     "execution_count": 55,
     "metadata": {},
     "output_type": "execute_result"
    }
   ],
   "source": [
    "(m23 < 2) | (m23 > 4)"
   ]
  },
  {
   "cell_type": "code",
   "execution_count": 56,
   "id": "8ea9120b",
   "metadata": {},
   "outputs": [
    {
     "data": {
      "text/plain": [
       "array([1, 2, 3])"
      ]
     },
     "execution_count": 56,
     "metadata": {},
     "output_type": "execute_result"
    }
   ],
   "source": [
    "m23[(m23 < 4) & (m23 >= 1)]\n",
    "# NOTE: Returns 1-D *Vector*"
   ]
  },
  {
   "cell_type": "code",
   "execution_count": 57,
   "id": "74a9c6b2",
   "metadata": {},
   "outputs": [
    {
     "data": {
      "text/plain": [
       "array([[ 1,  1,  1],\n",
       "       [-1, -1, -1]])"
      ]
     },
     "execution_count": 57,
     "metadata": {},
     "output_type": "execute_result"
    }
   ],
   "source": [
    "np.where(m23 < 4, 1, -1)\n",
    "# np.where(<condition>, <val_if_true>, <val_if_false>)"
   ]
  },
  {
   "cell_type": "markdown",
   "id": "746f27db",
   "metadata": {},
   "source": [
    "## Misc"
   ]
  },
  {
   "cell_type": "code",
   "execution_count": 58,
   "id": "baf1ad57",
   "metadata": {},
   "outputs": [
    {
     "data": {
      "text/plain": [
       "array([0., 1., 2., 3., 4., 5.])"
      ]
     },
     "execution_count": 58,
     "metadata": {},
     "output_type": "execute_result"
    }
   ],
   "source": [
    "v10 = np.linspace(0, 5, 6)\n",
    "v10\n",
    "# np.linspace(<start-incl>, <stop-incl>, <num_samples>)"
   ]
  },
  {
   "cell_type": "code",
   "execution_count": 59,
   "id": "97bb1bfd",
   "metadata": {},
   "outputs": [
    {
     "data": {
      "text/plain": [
       "array([1.25, 2.5 , 5.  ])"
      ]
     },
     "execution_count": 59,
     "metadata": {},
     "output_type": "execute_result"
    }
   ],
   "source": [
    "np.percentile(v10, [25, 50, 100])\n",
    "# Returns value(s) corresponding to given percentile(s)"
   ]
  },
  {
   "cell_type": "code",
   "execution_count": 60,
   "id": "6812fdc2",
   "metadata": {},
   "outputs": [
    {
     "name": "stdout",
     "output_type": "stream",
     "text": [
      "x:\n",
      " [[1 2 1]\n",
      " [1 3 1]\n",
      " [1 2 1]]\n",
      "Unique Elements:\n",
      " [1 2 3]\n",
      "Unique Rows:\n",
      " [[1 2 1]\n",
      " [1 3 1]]\n",
      "Unique Cols:\n",
      " [[1 2]\n",
      " [1 3]\n",
      " [1 2]]\n"
     ]
    }
   ],
   "source": [
    "x = np.array([[1, 2, 1], [1, 3, 1], [1, 2, 1]])\n",
    "print('x:\\n', x)\n",
    "print('Unique Elements:\\n', np.unique(x))\n",
    "print('Unique Rows:\\n', np.unique(x, axis=0))\n",
    "print('Unique Cols:\\n', np.unique(x, axis=1))"
   ]
  },
  {
   "cell_type": "code",
   "execution_count": null,
   "id": "0358de0c",
   "metadata": {},
   "outputs": [],
   "source": []
  }
 ],
 "metadata": {
  "kernelspec": {
   "display_name": "Python 3 (ipykernel)",
   "language": "python",
   "name": "python3"
  },
  "language_info": {
   "codemirror_mode": {
    "name": "ipython",
    "version": 3
   },
   "file_extension": ".py",
   "mimetype": "text/x-python",
   "name": "python",
   "nbconvert_exporter": "python",
   "pygments_lexer": "ipython3",
   "version": "3.9.10"
  }
 },
 "nbformat": 4,
 "nbformat_minor": 5
}
