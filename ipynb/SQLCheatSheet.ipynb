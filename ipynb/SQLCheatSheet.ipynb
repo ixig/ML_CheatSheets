{
 "cells": [
  {
   "cell_type": "markdown",
   "id": "dc39afe3",
   "metadata": {},
   "source": [
    "# SQL Cheat Sheet"
   ]
  },
  {
   "cell_type": "code",
   "execution_count": 1,
   "id": "2d88cfc1",
   "metadata": {},
   "outputs": [],
   "source": [
    "# !pip install ipython-sql\n",
    "# !pip install psycopg2  # PostgreSQL\n",
    "# !pip install mysql  # MySQL"
   ]
  },
  {
   "cell_type": "code",
   "execution_count": 2,
   "id": "8d7245da",
   "metadata": {},
   "outputs": [],
   "source": [
    "SQL_CONN = 'postgresql://wing@localhost/wing'\n",
    "\n",
    "%config SqlMagic.displaycon=False\n",
    "%load_ext sql\n",
    "%sql {SQL_CONN}"
   ]
  },
  {
   "cell_type": "markdown",
   "id": "d2378489",
   "metadata": {},
   "source": [
    "## 1. Tables: CREATE, ALTER, DROP"
   ]
  },
  {
   "cell_type": "code",
   "execution_count": 3,
   "id": "071e1431",
   "metadata": {},
   "outputs": [
    {
     "name": "stdout",
     "output_type": "stream",
     "text": [
      "Done.\n",
      "Done.\n"
     ]
    },
    {
     "data": {
      "text/plain": [
       "[]"
      ]
     },
     "execution_count": 3,
     "metadata": {},
     "output_type": "execute_result"
    }
   ],
   "source": [
    "%%sql\n",
    "DROP TYPE IF EXISTS t_grade;\n",
    "CREATE TYPE t_grade AS ENUM('A', 'B', 'C', 'D');"
   ]
  },
  {
   "cell_type": "code",
   "execution_count": 4,
   "id": "bdfc100b",
   "metadata": {},
   "outputs": [
    {
     "name": "stdout",
     "output_type": "stream",
     "text": [
      "Done.\n",
      "Done.\n"
     ]
    },
    {
     "data": {
      "text/plain": [
       "[]"
      ]
     },
     "execution_count": 4,
     "metadata": {},
     "output_type": "execute_result"
    }
   ],
   "source": [
    "%%sql\n",
    "CREATE TABLE advisors (\n",
    "    id SERIAL PRIMARY KEY,\n",
    "    name VARCHAR(255) NOT NULL\n",
    ");\n",
    "\n",
    "CREATE TABLE students (\n",
    "    id SERIAL PRIMARY KEY,\n",
    "    advisorId INT NOT NULL,\n",
    "    name VARCHAR(255) UNIQUE NOT NULL,\n",
    "    age INT NOT NULL,\n",
    "    height DECIMAL(8,2),\n",
    "    gpa REAL,\n",
    "    grade t_grade DEFAULT 'D',\n",
    "    created TIMESTAMP DEFAULT CURRENT_TIMESTAMP,\n",
    "    FOREIGN KEY(advisorId) REFERENCES advisors(id)\n",
    ");"
   ]
  },
  {
   "cell_type": "code",
   "execution_count": 5,
   "id": "c793e854",
   "metadata": {},
   "outputs": [
    {
     "name": "stdout",
     "output_type": "stream",
     "text": [
      "Done.\n",
      "Done.\n"
     ]
    },
    {
     "data": {
      "text/plain": [
       "[]"
      ]
     },
     "execution_count": 5,
     "metadata": {},
     "output_type": "execute_result"
    }
   ],
   "source": [
    "%%sql\n",
    "ALTER TABLE advisors\n",
    "ADD telephone VARCHAR(255);\n",
    "\n",
    "ALTER TABLE advisors\n",
    "DROP COLUMN telephone;"
   ]
  },
  {
   "cell_type": "code",
   "execution_count": 6,
   "id": "9562d856",
   "metadata": {},
   "outputs": [
    {
     "name": "stdout",
     "output_type": "stream",
     "text": [
      "Done.\n",
      "Done.\n"
     ]
    },
    {
     "data": {
      "text/plain": [
       "[]"
      ]
     },
     "execution_count": 6,
     "metadata": {},
     "output_type": "execute_result"
    }
   ],
   "source": [
    "%%sql\n",
    "DROP TABLE students;\n",
    "DROP TABLE IF EXISTS advisors;"
   ]
  },
  {
   "cell_type": "markdown",
   "id": "b79a7bcb",
   "metadata": {},
   "source": [
    "## 2. Views: CREATE VIEW ... AS ..."
   ]
  },
  {
   "cell_type": "code",
   "execution_count": 7,
   "id": "2d635745",
   "metadata": {},
   "outputs": [
    {
     "name": "stdout",
     "output_type": "stream",
     "text": [
      "Done.\n",
      "2 rows affected.\n"
     ]
    },
    {
     "data": {
      "text/html": [
       "<table>\n",
       "    <tr>\n",
       "        <th>firstname</th>\n",
       "        <th>lastname</th>\n",
       "    </tr>\n",
       "    <tr>\n",
       "        <td>jane</td>\n",
       "        <td>doe</td>\n",
       "    </tr>\n",
       "    <tr>\n",
       "        <td>john</td>\n",
       "        <td>doe</td>\n",
       "    </tr>\n",
       "</table>"
      ],
      "text/plain": [
       "[('jane', 'doe'), ('john', 'doe')]"
      ]
     },
     "execution_count": 7,
     "metadata": {},
     "output_type": "execute_result"
    }
   ],
   "source": [
    "%%sql\n",
    "CREATE VIEW cust_names AS\n",
    "SELECT firstName, lastName FROM customers WHERE state='OR';\n",
    "\n",
    "SELECT * FROM cust_names;"
   ]
  },
  {
   "cell_type": "code",
   "execution_count": 8,
   "id": "6ac42df1",
   "metadata": {},
   "outputs": [
    {
     "name": "stdout",
     "output_type": "stream",
     "text": [
      "Done.\n"
     ]
    },
    {
     "data": {
      "text/plain": [
       "[]"
      ]
     },
     "execution_count": 8,
     "metadata": {},
     "output_type": "execute_result"
    }
   ],
   "source": [
    "%%sql\n",
    "DROP VIEW cust_names;"
   ]
  },
  {
   "cell_type": "markdown",
   "id": "12a1bb73",
   "metadata": {},
   "source": [
    "## 3. Records: INSERT, UPDATE, DELETE"
   ]
  },
  {
   "cell_type": "markdown",
   "id": "4691ce71",
   "metadata": {},
   "source": [
    "### 3.1 INSERT INTO ..."
   ]
  },
  {
   "cell_type": "code",
   "execution_count": 9,
   "id": "f17c0d87",
   "metadata": {},
   "outputs": [
    {
     "name": "stdout",
     "output_type": "stream",
     "text": [
      "1 rows affected.\n"
     ]
    },
    {
     "data": {
      "text/plain": [
       "[]"
      ]
     },
     "execution_count": 9,
     "metadata": {},
     "output_type": "execute_result"
    }
   ],
   "source": [
    "%%sql\n",
    "INSERT INTO customers (firstName, lastName, age) VALUES ('jack', 'daniels', 99);"
   ]
  },
  {
   "cell_type": "code",
   "execution_count": 10,
   "id": "1d06bb56",
   "metadata": {},
   "outputs": [
    {
     "name": "stdout",
     "output_type": "stream",
     "text": [
      "1 rows affected.\n"
     ]
    },
    {
     "data": {
      "text/plain": [
       "[]"
      ]
     },
     "execution_count": 10,
     "metadata": {},
     "output_type": "execute_result"
    }
   ],
   "source": [
    "%%sql\n",
    "INSERT INTO customers (firstName, lastName, age) SELECT firstName, lastName, age-1 FROM customers WHERE age=99;"
   ]
  },
  {
   "cell_type": "markdown",
   "id": "82850b2d",
   "metadata": {},
   "source": [
    "### 3.2 UPDATE ... SET"
   ]
  },
  {
   "cell_type": "code",
   "execution_count": 11,
   "id": "18de1f1d",
   "metadata": {},
   "outputs": [
    {
     "name": "stdout",
     "output_type": "stream",
     "text": [
      "1 rows affected.\n"
     ]
    },
    {
     "data": {
      "text/plain": [
       "[]"
      ]
     },
     "execution_count": 11,
     "metadata": {},
     "output_type": "execute_result"
    }
   ],
   "source": [
    "%%sql\n",
    "UPDATE customers SET\n",
    "age=age-1,\n",
    "email='jack@daniels.net',\n",
    "state='CA'\n",
    "WHERE lastname='daniels' AND age=99;"
   ]
  },
  {
   "cell_type": "markdown",
   "id": "fad5b3d0",
   "metadata": {},
   "source": [
    "### 3.3 DELETE FROM ..."
   ]
  },
  {
   "cell_type": "code",
   "execution_count": 12,
   "id": "ed3586d6",
   "metadata": {},
   "outputs": [
    {
     "name": "stdout",
     "output_type": "stream",
     "text": [
      "2 rows affected.\n"
     ]
    },
    {
     "data": {
      "text/plain": [
       "[]"
      ]
     },
     "execution_count": 12,
     "metadata": {},
     "output_type": "execute_result"
    }
   ],
   "source": [
    "%%sql\n",
    "DELETE FROM customers\n",
    "WHERE firstName='jack' AND age=98;"
   ]
  },
  {
   "cell_type": "markdown",
   "id": "6a704ec0",
   "metadata": {},
   "source": [
    "SELECT ... (AS ...) FROM ... (AS ...) WHERE ... GROUP BY ... HAVING ... ORDER BY ... (DESC) LIMIT ... OFFSET ..."
   ]
  },
  {
   "cell_type": "markdown",
   "id": "a09b6a37",
   "metadata": {},
   "source": [
    "## 4. SELECT ... AS ... FROM"
   ]
  },
  {
   "cell_type": "code",
   "execution_count": 13,
   "id": "c3dbe2c7",
   "metadata": {},
   "outputs": [
    {
     "name": "stdout",
     "output_type": "stream",
     "text": [
      "4 rows affected.\n"
     ]
    },
    {
     "data": {
      "text/html": [
       "<table>\n",
       "    <tr>\n",
       "        <th>name</th>\n",
       "        <th>age + 1</th>\n",
       "    </tr>\n",
       "    <tr>\n",
       "        <td>jane doe</td>\n",
       "        <td>19</td>\n",
       "    </tr>\n",
       "    <tr>\n",
       "        <td>john doe</td>\n",
       "        <td>20</td>\n",
       "    </tr>\n",
       "    <tr>\n",
       "        <td>jack daniels</td>\n",
       "        <td>23</td>\n",
       "    </tr>\n",
       "    <tr>\n",
       "        <td>jane austen</td>\n",
       "        <td>23</td>\n",
       "    </tr>\n",
       "</table>"
      ],
      "text/plain": [
       "[('jane doe', 19), ('john doe', 20), ('jack daniels', 23), ('jane austen', 23)]"
      ]
     },
     "execution_count": 13,
     "metadata": {},
     "output_type": "execute_result"
    }
   ],
   "source": [
    "%%sql\n",
    "SELECT CONCAT(firstName, ' ', lastName) AS name, age + 1 AS \"age + 1\" FROM customers;"
   ]
  },
  {
   "cell_type": "markdown",
   "id": "15a40da1",
   "metadata": {},
   "source": [
    "### 4.1 DISTINCT"
   ]
  },
  {
   "cell_type": "code",
   "execution_count": 14,
   "id": "cb519e4f",
   "metadata": {},
   "outputs": [
    {
     "name": "stdout",
     "output_type": "stream",
     "text": [
      "3 rows affected.\n"
     ]
    },
    {
     "data": {
      "text/html": [
       "<table>\n",
       "    <tr>\n",
       "        <th>state</th>\n",
       "    </tr>\n",
       "    <tr>\n",
       "        <td>None</td>\n",
       "    </tr>\n",
       "    <tr>\n",
       "        <td>OR</td>\n",
       "    </tr>\n",
       "    <tr>\n",
       "        <td>WA</td>\n",
       "    </tr>\n",
       "</table>"
      ],
      "text/plain": [
       "[(None,), ('OR',), ('WA',)]"
      ]
     },
     "execution_count": 14,
     "metadata": {},
     "output_type": "execute_result"
    }
   ],
   "source": [
    "%%sql\n",
    "SELECT DISTINCT state FROM customers;"
   ]
  },
  {
   "cell_type": "code",
   "execution_count": 15,
   "id": "f175615b",
   "metadata": {},
   "outputs": [
    {
     "name": "stdout",
     "output_type": "stream",
     "text": [
      "3 rows affected.\n"
     ]
    },
    {
     "data": {
      "text/html": [
       "<table>\n",
       "    <tr>\n",
       "        <th>lastname</th>\n",
       "        <th>state</th>\n",
       "    </tr>\n",
       "    <tr>\n",
       "        <td>austen</td>\n",
       "        <td>None</td>\n",
       "    </tr>\n",
       "    <tr>\n",
       "        <td>daniels</td>\n",
       "        <td>WA</td>\n",
       "    </tr>\n",
       "    <tr>\n",
       "        <td>doe</td>\n",
       "        <td>OR</td>\n",
       "    </tr>\n",
       "</table>"
      ],
      "text/plain": [
       "[('austen', None), ('daniels', 'WA'), ('doe', 'OR')]"
      ]
     },
     "execution_count": 15,
     "metadata": {},
     "output_type": "execute_result"
    }
   ],
   "source": [
    "%%sql\n",
    "SELECT DISTINCT lastName, state FROM customers;"
   ]
  },
  {
   "cell_type": "markdown",
   "id": "3438aed7",
   "metadata": {},
   "source": [
    "### 4.2 UNION"
   ]
  },
  {
   "cell_type": "code",
   "execution_count": 16,
   "id": "b6a0bd51",
   "metadata": {},
   "outputs": [
    {
     "name": "stdout",
     "output_type": "stream",
     "text": [
      "5 rows affected.\n"
     ]
    },
    {
     "data": {
      "text/html": [
       "<table>\n",
       "    <tr>\n",
       "        <th>name</th>\n",
       "    </tr>\n",
       "    <tr>\n",
       "        <td>xbox</td>\n",
       "    </tr>\n",
       "    <tr>\n",
       "        <td>ps5</td>\n",
       "    </tr>\n",
       "    <tr>\n",
       "        <td>ps6</td>\n",
       "    </tr>\n",
       "    <tr>\n",
       "        <td>Oregon</td>\n",
       "    </tr>\n",
       "    <tr>\n",
       "        <td>California</td>\n",
       "    </tr>\n",
       "</table>"
      ],
      "text/plain": [
       "[('xbox',), ('ps5',), ('ps6',), ('Oregon',), ('California',)]"
      ]
     },
     "execution_count": 16,
     "metadata": {},
     "output_type": "execute_result"
    }
   ],
   "source": [
    "%%sql\n",
    "SELECT name FROM states\n",
    "UNION\n",
    "SELECT name FROM products;"
   ]
  },
  {
   "cell_type": "markdown",
   "id": "798d7f33",
   "metadata": {},
   "source": [
    "### 4.3 SELECT ... INTO / INSERT INTO"
   ]
  },
  {
   "cell_type": "code",
   "execution_count": 17,
   "id": "8b4b7fc8",
   "metadata": {},
   "outputs": [
    {
     "name": "stdout",
     "output_type": "stream",
     "text": [
      "1 rows affected.\n",
      "3 rows affected.\n",
      "Done.\n"
     ]
    },
    {
     "data": {
      "text/plain": [
       "[]"
      ]
     },
     "execution_count": 17,
     "metadata": {},
     "output_type": "execute_result"
    }
   ],
   "source": [
    "%%sql\n",
    "SELECT * INTO new_orders\n",
    "FROM orders WHERE qty>50;\n",
    "\n",
    "INSERT INTO new_orders\n",
    "SELECT *\n",
    "FROM orders WHERE qty<=50;\n",
    "\n",
    "DROP TABLE new_orders;"
   ]
  },
  {
   "cell_type": "markdown",
   "id": "cbe76190",
   "metadata": {},
   "source": [
    "## 5. WHERE ... IS / NOT / AND / OR / IN / LIKE / BETWEEN"
   ]
  },
  {
   "cell_type": "code",
   "execution_count": 18,
   "id": "89b04f0f",
   "metadata": {},
   "outputs": [
    {
     "name": "stdout",
     "output_type": "stream",
     "text": [
      "2 rows affected.\n"
     ]
    },
    {
     "data": {
      "text/html": [
       "<table>\n",
       "    <tr>\n",
       "        <th>id</th>\n",
       "        <th>firstname</th>\n",
       "        <th>lastname</th>\n",
       "        <th>age</th>\n",
       "        <th>email</th>\n",
       "        <th>state</th>\n",
       "    </tr>\n",
       "    <tr>\n",
       "        <td>2</td>\n",
       "        <td>john</td>\n",
       "        <td>doe</td>\n",
       "        <td>19</td>\n",
       "        <td>john@doe.com</td>\n",
       "        <td>OR</td>\n",
       "    </tr>\n",
       "    <tr>\n",
       "        <td>4</td>\n",
       "        <td>jack</td>\n",
       "        <td>daniels</td>\n",
       "        <td>22</td>\n",
       "        <td>None</td>\n",
       "        <td>WA</td>\n",
       "    </tr>\n",
       "</table>"
      ],
      "text/plain": [
       "[(2, 'john', 'doe', 19, 'john@doe.com', 'OR'),\n",
       " (4, 'jack', 'daniels', 22, None, 'WA')]"
      ]
     },
     "execution_count": 18,
     "metadata": {},
     "output_type": "execute_result"
    }
   ],
   "source": [
    "%%sql\n",
    "SELECT * FROM customers WHERE firstName='john' AND lastName='doe' OR lastName='daniels';"
   ]
  },
  {
   "cell_type": "code",
   "execution_count": 19,
   "id": "20a479d9",
   "metadata": {},
   "outputs": [
    {
     "name": "stdout",
     "output_type": "stream",
     "text": [
      "1 rows affected.\n"
     ]
    },
    {
     "data": {
      "text/html": [
       "<table>\n",
       "    <tr>\n",
       "        <th>id</th>\n",
       "        <th>firstname</th>\n",
       "        <th>lastname</th>\n",
       "        <th>age</th>\n",
       "        <th>email</th>\n",
       "        <th>state</th>\n",
       "    </tr>\n",
       "    <tr>\n",
       "        <td>1</td>\n",
       "        <td>jane</td>\n",
       "        <td>doe</td>\n",
       "        <td>18</td>\n",
       "        <td>jane@doe.com</td>\n",
       "        <td>OR</td>\n",
       "    </tr>\n",
       "</table>"
      ],
      "text/plain": [
       "[(1, 'jane', 'doe', 18, 'jane@doe.com', 'OR')]"
      ]
     },
     "execution_count": 19,
     "metadata": {},
     "output_type": "execute_result"
    }
   ],
   "source": [
    "%%sql\n",
    "SELECT * FROM customers where age=(SELECT MIN(age) AS max_age FROM customers);"
   ]
  },
  {
   "cell_type": "code",
   "execution_count": 20,
   "id": "c306d6a1",
   "metadata": {},
   "outputs": [
    {
     "name": "stdout",
     "output_type": "stream",
     "text": [
      "2 rows affected.\n"
     ]
    },
    {
     "data": {
      "text/html": [
       "<table>\n",
       "    <tr>\n",
       "        <th>id</th>\n",
       "        <th>firstname</th>\n",
       "        <th>lastname</th>\n",
       "        <th>age</th>\n",
       "        <th>email</th>\n",
       "        <th>state</th>\n",
       "    </tr>\n",
       "    <tr>\n",
       "        <td>4</td>\n",
       "        <td>jack</td>\n",
       "        <td>daniels</td>\n",
       "        <td>22</td>\n",
       "        <td>None</td>\n",
       "        <td>WA</td>\n",
       "    </tr>\n",
       "    <tr>\n",
       "        <td>5</td>\n",
       "        <td>jane</td>\n",
       "        <td>austen</td>\n",
       "        <td>22</td>\n",
       "        <td>None</td>\n",
       "        <td>None</td>\n",
       "    </tr>\n",
       "</table>"
      ],
      "text/plain": [
       "[(4, 'jack', 'daniels', 22, None, 'WA'), (5, 'jane', 'austen', 22, None, None)]"
      ]
     },
     "execution_count": 20,
     "metadata": {},
     "output_type": "execute_result"
    }
   ],
   "source": [
    "%%sql\n",
    "SELECT * FROM customers WHERE age>=20;"
   ]
  },
  {
   "cell_type": "code",
   "execution_count": 21,
   "id": "1f67cc7c",
   "metadata": {},
   "outputs": [
    {
     "name": "stdout",
     "output_type": "stream",
     "text": [
      "2 rows affected.\n"
     ]
    },
    {
     "data": {
      "text/html": [
       "<table>\n",
       "    <tr>\n",
       "        <th>id</th>\n",
       "        <th>firstname</th>\n",
       "        <th>lastname</th>\n",
       "        <th>age</th>\n",
       "        <th>email</th>\n",
       "        <th>state</th>\n",
       "    </tr>\n",
       "    <tr>\n",
       "        <td>1</td>\n",
       "        <td>jane</td>\n",
       "        <td>doe</td>\n",
       "        <td>18</td>\n",
       "        <td>jane@doe.com</td>\n",
       "        <td>OR</td>\n",
       "    </tr>\n",
       "    <tr>\n",
       "        <td>2</td>\n",
       "        <td>john</td>\n",
       "        <td>doe</td>\n",
       "        <td>19</td>\n",
       "        <td>john@doe.com</td>\n",
       "        <td>OR</td>\n",
       "    </tr>\n",
       "</table>"
      ],
      "text/plain": [
       "[(1, 'jane', 'doe', 18, 'jane@doe.com', 'OR'),\n",
       " (2, 'john', 'doe', 19, 'john@doe.com', 'OR')]"
      ]
     },
     "execution_count": 21,
     "metadata": {},
     "output_type": "execute_result"
    }
   ],
   "source": [
    "%%sql\n",
    "SELECT * FROM customers WHERE age BETWEEN 17 AND 19"
   ]
  },
  {
   "cell_type": "code",
   "execution_count": 22,
   "id": "b23bf4fe",
   "metadata": {},
   "outputs": [
    {
     "name": "stdout",
     "output_type": "stream",
     "text": [
      "2 rows affected.\n"
     ]
    },
    {
     "data": {
      "text/html": [
       "<table>\n",
       "    <tr>\n",
       "        <th>id</th>\n",
       "        <th>firstname</th>\n",
       "        <th>lastname</th>\n",
       "        <th>age</th>\n",
       "        <th>email</th>\n",
       "        <th>state</th>\n",
       "    </tr>\n",
       "    <tr>\n",
       "        <td>1</td>\n",
       "        <td>jane</td>\n",
       "        <td>doe</td>\n",
       "        <td>18</td>\n",
       "        <td>jane@doe.com</td>\n",
       "        <td>OR</td>\n",
       "    </tr>\n",
       "    <tr>\n",
       "        <td>5</td>\n",
       "        <td>jane</td>\n",
       "        <td>austen</td>\n",
       "        <td>22</td>\n",
       "        <td>None</td>\n",
       "        <td>None</td>\n",
       "    </tr>\n",
       "</table>"
      ],
      "text/plain": [
       "[(1, 'jane', 'doe', 18, 'jane@doe.com', 'OR'),\n",
       " (5, 'jane', 'austen', 22, None, None)]"
      ]
     },
     "execution_count": 22,
     "metadata": {},
     "output_type": "execute_result"
    }
   ],
   "source": [
    "%%sql\n",
    "SELECT * FROM customers WHERE firstName LIKE 'jan%';"
   ]
  },
  {
   "cell_type": "code",
   "execution_count": 23,
   "id": "0feda484",
   "metadata": {},
   "outputs": [
    {
     "name": "stdout",
     "output_type": "stream",
     "text": [
      "1 rows affected.\n"
     ]
    },
    {
     "data": {
      "text/html": [
       "<table>\n",
       "    <tr>\n",
       "        <th>id</th>\n",
       "        <th>firstname</th>\n",
       "        <th>lastname</th>\n",
       "        <th>age</th>\n",
       "        <th>email</th>\n",
       "        <th>state</th>\n",
       "    </tr>\n",
       "    <tr>\n",
       "        <td>2</td>\n",
       "        <td>john</td>\n",
       "        <td>doe</td>\n",
       "        <td>19</td>\n",
       "        <td>john@doe.com</td>\n",
       "        <td>OR</td>\n",
       "    </tr>\n",
       "</table>"
      ],
      "text/plain": [
       "[(2, 'john', 'doe', 19, 'john@doe.com', 'OR')]"
      ]
     },
     "execution_count": 23,
     "metadata": {},
     "output_type": "execute_result"
    }
   ],
   "source": [
    "%%sql\n",
    "SELECT * FROM customers WHERE firstName NOT LIKE 'ja__';"
   ]
  },
  {
   "cell_type": "code",
   "execution_count": 24,
   "id": "10bf30ca",
   "metadata": {},
   "outputs": [
    {
     "name": "stdout",
     "output_type": "stream",
     "text": [
      "2 rows affected.\n"
     ]
    },
    {
     "data": {
      "text/html": [
       "<table>\n",
       "    <tr>\n",
       "        <th>id</th>\n",
       "        <th>firstname</th>\n",
       "        <th>lastname</th>\n",
       "        <th>age</th>\n",
       "        <th>email</th>\n",
       "        <th>state</th>\n",
       "    </tr>\n",
       "    <tr>\n",
       "        <td>4</td>\n",
       "        <td>jack</td>\n",
       "        <td>daniels</td>\n",
       "        <td>22</td>\n",
       "        <td>None</td>\n",
       "        <td>WA</td>\n",
       "    </tr>\n",
       "    <tr>\n",
       "        <td>5</td>\n",
       "        <td>jane</td>\n",
       "        <td>austen</td>\n",
       "        <td>22</td>\n",
       "        <td>None</td>\n",
       "        <td>None</td>\n",
       "    </tr>\n",
       "</table>"
      ],
      "text/plain": [
       "[(4, 'jack', 'daniels', 22, None, 'WA'), (5, 'jane', 'austen', 22, None, None)]"
      ]
     },
     "execution_count": 24,
     "metadata": {},
     "output_type": "execute_result"
    }
   ],
   "source": [
    "%%sql\n",
    "SELECT * FROM customers WHERE lastName IN ('austen', 'daniels');"
   ]
  },
  {
   "cell_type": "code",
   "execution_count": 25,
   "id": "b13b3eb2",
   "metadata": {},
   "outputs": [
    {
     "name": "stdout",
     "output_type": "stream",
     "text": [
      "2 rows affected.\n"
     ]
    },
    {
     "data": {
      "text/html": [
       "<table>\n",
       "    <tr>\n",
       "        <th>id</th>\n",
       "        <th>firstname</th>\n",
       "        <th>lastname</th>\n",
       "        <th>age</th>\n",
       "        <th>email</th>\n",
       "        <th>state</th>\n",
       "    </tr>\n",
       "    <tr>\n",
       "        <td>4</td>\n",
       "        <td>jack</td>\n",
       "        <td>daniels</td>\n",
       "        <td>22</td>\n",
       "        <td>None</td>\n",
       "        <td>WA</td>\n",
       "    </tr>\n",
       "    <tr>\n",
       "        <td>5</td>\n",
       "        <td>jane</td>\n",
       "        <td>austen</td>\n",
       "        <td>22</td>\n",
       "        <td>None</td>\n",
       "        <td>None</td>\n",
       "    </tr>\n",
       "</table>"
      ],
      "text/plain": [
       "[(4, 'jack', 'daniels', 22, None, 'WA'), (5, 'jane', 'austen', 22, None, None)]"
      ]
     },
     "execution_count": 25,
     "metadata": {},
     "output_type": "execute_result"
    }
   ],
   "source": [
    "%%sql\n",
    "SELECT * FROM customers WHERE email IS NULL /* \"= NULL\" wouldn't work! */;"
   ]
  },
  {
   "cell_type": "markdown",
   "id": "316042b2",
   "metadata": {},
   "source": [
    "## 6. GROUP BY ... HAVING"
   ]
  },
  {
   "cell_type": "markdown",
   "id": "822e96de",
   "metadata": {},
   "source": [
    "### Aggregate Functions"
   ]
  },
  {
   "cell_type": "code",
   "execution_count": 26,
   "id": "004310c3",
   "metadata": {},
   "outputs": [
    {
     "name": "stdout",
     "output_type": "stream",
     "text": [
      "1 rows affected.\n"
     ]
    },
    {
     "data": {
      "text/html": [
       "<table>\n",
       "    <tr>\n",
       "        <th>min</th>\n",
       "    </tr>\n",
       "    <tr>\n",
       "        <td>18</td>\n",
       "    </tr>\n",
       "</table>"
      ],
      "text/plain": [
       "[(18,)]"
      ]
     },
     "execution_count": 26,
     "metadata": {},
     "output_type": "execute_result"
    }
   ],
   "source": [
    "%%sql\n",
    "SELECT MIN /*MAX,AVG,SUM*/ (age) FROM customers;"
   ]
  },
  {
   "cell_type": "code",
   "execution_count": 27,
   "id": "8a945d19",
   "metadata": {},
   "outputs": [
    {
     "name": "stdout",
     "output_type": "stream",
     "text": [
      "1 rows affected.\n"
     ]
    },
    {
     "data": {
      "text/html": [
       "<table>\n",
       "    <tr>\n",
       "        <th>count</th>\n",
       "    </tr>\n",
       "    <tr>\n",
       "        <td>2</td>\n",
       "    </tr>\n",
       "</table>"
      ],
      "text/plain": [
       "[(2,)]"
      ]
     },
     "execution_count": 27,
     "metadata": {},
     "output_type": "execute_result"
    }
   ],
   "source": [
    "%%sql\n",
    "SELECT COUNT(*) FROM customers WHERE age>20;"
   ]
  },
  {
   "cell_type": "code",
   "execution_count": 28,
   "id": "3232c3f8",
   "metadata": {},
   "outputs": [
    {
     "name": "stdout",
     "output_type": "stream",
     "text": [
      "1 rows affected.\n"
     ]
    },
    {
     "data": {
      "text/html": [
       "<table>\n",
       "    <tr>\n",
       "        <th>#States</th>\n",
       "        <th>#Custs</th>\n",
       "    </tr>\n",
       "    <tr>\n",
       "        <td>3</td>\n",
       "        <td>4</td>\n",
       "    </tr>\n",
       "</table>"
      ],
      "text/plain": [
       "[(3, 4)]"
      ]
     },
     "execution_count": 28,
     "metadata": {},
     "output_type": "execute_result"
    }
   ],
   "source": [
    "%%sql\n",
    "SELECT COUNT(state) AS \"#States\", COUNT(*) AS \"#Custs\" FROM customers;"
   ]
  },
  {
   "cell_type": "code",
   "execution_count": 29,
   "id": "7ac0bc4b",
   "metadata": {},
   "outputs": [
    {
     "name": "stdout",
     "output_type": "stream",
     "text": [
      "1 rows affected.\n"
     ]
    },
    {
     "data": {
      "text/html": [
       "<table>\n",
       "    <tr>\n",
       "        <th>count</th>\n",
       "        <th>count_1</th>\n",
       "    </tr>\n",
       "    <tr>\n",
       "        <td>4</td>\n",
       "        <td>3</td>\n",
       "    </tr>\n",
       "</table>"
      ],
      "text/plain": [
       "[(4, 3)]"
      ]
     },
     "execution_count": 29,
     "metadata": {},
     "output_type": "execute_result"
    }
   ],
   "source": [
    "%%sql\n",
    "SELECT COUNT(lastName), COUNT(DISTINCT lastName) FROM customers;"
   ]
  },
  {
   "cell_type": "markdown",
   "id": "3821f226",
   "metadata": {},
   "source": [
    "### SELECT ... AggFn() GROUP BY ... HAVING AggFn() ..."
   ]
  },
  {
   "cell_type": "code",
   "execution_count": 30,
   "id": "76f234a7",
   "metadata": {},
   "outputs": [
    {
     "name": "stdout",
     "output_type": "stream",
     "text": [
      "3 rows affected.\n"
     ]
    },
    {
     "data": {
      "text/html": [
       "<table>\n",
       "    <tr>\n",
       "        <th>lastname</th>\n",
       "        <th>count</th>\n",
       "        <th>max</th>\n",
       "    </tr>\n",
       "    <tr>\n",
       "        <td>austen</td>\n",
       "        <td>1</td>\n",
       "        <td>22</td>\n",
       "    </tr>\n",
       "    <tr>\n",
       "        <td>daniels</td>\n",
       "        <td>1</td>\n",
       "        <td>22</td>\n",
       "    </tr>\n",
       "    <tr>\n",
       "        <td>doe</td>\n",
       "        <td>2</td>\n",
       "        <td>19</td>\n",
       "    </tr>\n",
       "</table>"
      ],
      "text/plain": [
       "[('austen', 1, 22), ('daniels', 1, 22), ('doe', 2, 19)]"
      ]
     },
     "execution_count": 30,
     "metadata": {},
     "output_type": "execute_result"
    }
   ],
   "source": [
    "%%sql\n",
    "SELECT lastName, COUNT(*), MAX(age) FROM customers GROUP BY lastName;"
   ]
  },
  {
   "cell_type": "code",
   "execution_count": 31,
   "id": "9a433f91",
   "metadata": {},
   "outputs": [
    {
     "name": "stdout",
     "output_type": "stream",
     "text": [
      "1 rows affected.\n"
     ]
    },
    {
     "data": {
      "text/html": [
       "<table>\n",
       "    <tr>\n",
       "        <th>lastname</th>\n",
       "        <th>max</th>\n",
       "    </tr>\n",
       "    <tr>\n",
       "        <td>doe</td>\n",
       "        <td>19</td>\n",
       "    </tr>\n",
       "</table>"
      ],
      "text/plain": [
       "[('doe', 19)]"
      ]
     },
     "execution_count": 31,
     "metadata": {},
     "output_type": "execute_result"
    }
   ],
   "source": [
    "%%sql\n",
    "SELECT lastName, MAX(age) FROM customers WHERE age<20 GROUP BY lastName;"
   ]
  },
  {
   "cell_type": "code",
   "execution_count": 32,
   "id": "c7b0785a",
   "metadata": {},
   "outputs": [
    {
     "name": "stdout",
     "output_type": "stream",
     "text": [
      "1 rows affected.\n"
     ]
    },
    {
     "data": {
      "text/html": [
       "<table>\n",
       "    <tr>\n",
       "        <th>lastname</th>\n",
       "        <th>count</th>\n",
       "    </tr>\n",
       "    <tr>\n",
       "        <td>doe</td>\n",
       "        <td>2</td>\n",
       "    </tr>\n",
       "</table>"
      ],
      "text/plain": [
       "[('doe', 2)]"
      ]
     },
     "execution_count": 32,
     "metadata": {},
     "output_type": "execute_result"
    }
   ],
   "source": [
    "%%sql\n",
    "SELECT lastName, COUNT(*) FROM customers GROUP BY lastName HAVING COUNT(*)>1;"
   ]
  },
  {
   "cell_type": "markdown",
   "id": "9f4e82b9",
   "metadata": {},
   "source": [
    "## 7. ORDER BY ... DESC"
   ]
  },
  {
   "cell_type": "code",
   "execution_count": 33,
   "id": "ed298d1f",
   "metadata": {},
   "outputs": [
    {
     "name": "stdout",
     "output_type": "stream",
     "text": [
      "4 rows affected.\n"
     ]
    },
    {
     "data": {
      "text/html": [
       "<table>\n",
       "    <tr>\n",
       "        <th>id</th>\n",
       "        <th>firstname</th>\n",
       "        <th>lastname</th>\n",
       "        <th>age</th>\n",
       "        <th>email</th>\n",
       "        <th>state</th>\n",
       "    </tr>\n",
       "    <tr>\n",
       "        <td>1</td>\n",
       "        <td>jane</td>\n",
       "        <td>doe</td>\n",
       "        <td>18</td>\n",
       "        <td>jane@doe.com</td>\n",
       "        <td>OR</td>\n",
       "    </tr>\n",
       "    <tr>\n",
       "        <td>2</td>\n",
       "        <td>john</td>\n",
       "        <td>doe</td>\n",
       "        <td>19</td>\n",
       "        <td>john@doe.com</td>\n",
       "        <td>OR</td>\n",
       "    </tr>\n",
       "    <tr>\n",
       "        <td>4</td>\n",
       "        <td>jack</td>\n",
       "        <td>daniels</td>\n",
       "        <td>22</td>\n",
       "        <td>None</td>\n",
       "        <td>WA</td>\n",
       "    </tr>\n",
       "    <tr>\n",
       "        <td>5</td>\n",
       "        <td>jane</td>\n",
       "        <td>austen</td>\n",
       "        <td>22</td>\n",
       "        <td>None</td>\n",
       "        <td>None</td>\n",
       "    </tr>\n",
       "</table>"
      ],
      "text/plain": [
       "[(1, 'jane', 'doe', 18, 'jane@doe.com', 'OR'),\n",
       " (2, 'john', 'doe', 19, 'john@doe.com', 'OR'),\n",
       " (4, 'jack', 'daniels', 22, None, 'WA'),\n",
       " (5, 'jane', 'austen', 22, None, None)]"
      ]
     },
     "execution_count": 33,
     "metadata": {},
     "output_type": "execute_result"
    }
   ],
   "source": [
    "%%sql\n",
    "SELECT * FROM customers ORDER BY lastname DESC, firstname;"
   ]
  },
  {
   "cell_type": "markdown",
   "id": "748a32de",
   "metadata": {},
   "source": [
    "## 8. LIMIT  ... OFFSET"
   ]
  },
  {
   "cell_type": "code",
   "execution_count": 34,
   "id": "e83afbea",
   "metadata": {},
   "outputs": [
    {
     "name": "stdout",
     "output_type": "stream",
     "text": [
      "4 rows affected.\n"
     ]
    },
    {
     "data": {
      "text/html": [
       "<table>\n",
       "    <tr>\n",
       "        <th>id</th>\n",
       "        <th>firstname</th>\n",
       "        <th>lastname</th>\n",
       "        <th>age</th>\n",
       "        <th>email</th>\n",
       "        <th>state</th>\n",
       "    </tr>\n",
       "    <tr>\n",
       "        <td>1</td>\n",
       "        <td>jane</td>\n",
       "        <td>doe</td>\n",
       "        <td>18</td>\n",
       "        <td>jane@doe.com</td>\n",
       "        <td>OR</td>\n",
       "    </tr>\n",
       "    <tr>\n",
       "        <td>2</td>\n",
       "        <td>john</td>\n",
       "        <td>doe</td>\n",
       "        <td>19</td>\n",
       "        <td>john@doe.com</td>\n",
       "        <td>OR</td>\n",
       "    </tr>\n",
       "    <tr>\n",
       "        <td>4</td>\n",
       "        <td>jack</td>\n",
       "        <td>daniels</td>\n",
       "        <td>22</td>\n",
       "        <td>None</td>\n",
       "        <td>WA</td>\n",
       "    </tr>\n",
       "    <tr>\n",
       "        <td>5</td>\n",
       "        <td>jane</td>\n",
       "        <td>austen</td>\n",
       "        <td>22</td>\n",
       "        <td>None</td>\n",
       "        <td>None</td>\n",
       "    </tr>\n",
       "</table>"
      ],
      "text/plain": [
       "[(1, 'jane', 'doe', 18, 'jane@doe.com', 'OR'),\n",
       " (2, 'john', 'doe', 19, 'john@doe.com', 'OR'),\n",
       " (4, 'jack', 'daniels', 22, None, 'WA'),\n",
       " (5, 'jane', 'austen', 22, None, None)]"
      ]
     },
     "execution_count": 34,
     "metadata": {},
     "output_type": "execute_result"
    }
   ],
   "source": [
    "%%sql\n",
    "SELECT * FROM customers;"
   ]
  },
  {
   "cell_type": "code",
   "execution_count": 35,
   "id": "f5bb35c2",
   "metadata": {},
   "outputs": [
    {
     "name": "stdout",
     "output_type": "stream",
     "text": [
      "2 rows affected.\n"
     ]
    },
    {
     "data": {
      "text/html": [
       "<table>\n",
       "    <tr>\n",
       "        <th>id</th>\n",
       "        <th>firstname</th>\n",
       "        <th>lastname</th>\n",
       "        <th>age</th>\n",
       "        <th>email</th>\n",
       "        <th>state</th>\n",
       "    </tr>\n",
       "    <tr>\n",
       "        <td>4</td>\n",
       "        <td>jack</td>\n",
       "        <td>daniels</td>\n",
       "        <td>22</td>\n",
       "        <td>None</td>\n",
       "        <td>WA</td>\n",
       "    </tr>\n",
       "    <tr>\n",
       "        <td>5</td>\n",
       "        <td>jane</td>\n",
       "        <td>austen</td>\n",
       "        <td>22</td>\n",
       "        <td>None</td>\n",
       "        <td>None</td>\n",
       "    </tr>\n",
       "</table>"
      ],
      "text/plain": [
       "[(4, 'jack', 'daniels', 22, None, 'WA'), (5, 'jane', 'austen', 22, None, None)]"
      ]
     },
     "execution_count": 35,
     "metadata": {},
     "output_type": "execute_result"
    }
   ],
   "source": [
    "%%sql\n",
    "SELECT * FROM customers LIMIT 2 OFFSET 2;"
   ]
  },
  {
   "cell_type": "markdown",
   "id": "139bd663",
   "metadata": {},
   "source": [
    "## 9. JOIN ... ON"
   ]
  },
  {
   "cell_type": "code",
   "execution_count": 36,
   "id": "f431b44d",
   "metadata": {},
   "outputs": [
    {
     "name": "stdout",
     "output_type": "stream",
     "text": [
      "4 rows affected.\n"
     ]
    },
    {
     "data": {
      "text/html": [
       "<table>\n",
       "    <tr>\n",
       "        <th>id</th>\n",
       "        <th>firstname</th>\n",
       "        <th>lastname</th>\n",
       "        <th>age</th>\n",
       "        <th>email</th>\n",
       "        <th>state</th>\n",
       "    </tr>\n",
       "    <tr>\n",
       "        <td>1</td>\n",
       "        <td>jane</td>\n",
       "        <td>doe</td>\n",
       "        <td>18</td>\n",
       "        <td>jane@doe.com</td>\n",
       "        <td>OR</td>\n",
       "    </tr>\n",
       "    <tr>\n",
       "        <td>2</td>\n",
       "        <td>john</td>\n",
       "        <td>doe</td>\n",
       "        <td>19</td>\n",
       "        <td>john@doe.com</td>\n",
       "        <td>OR</td>\n",
       "    </tr>\n",
       "    <tr>\n",
       "        <td>4</td>\n",
       "        <td>jack</td>\n",
       "        <td>daniels</td>\n",
       "        <td>22</td>\n",
       "        <td>None</td>\n",
       "        <td>WA</td>\n",
       "    </tr>\n",
       "    <tr>\n",
       "        <td>5</td>\n",
       "        <td>jane</td>\n",
       "        <td>austen</td>\n",
       "        <td>22</td>\n",
       "        <td>None</td>\n",
       "        <td>None</td>\n",
       "    </tr>\n",
       "</table>"
      ],
      "text/plain": [
       "[(1, 'jane', 'doe', 18, 'jane@doe.com', 'OR'),\n",
       " (2, 'john', 'doe', 19, 'john@doe.com', 'OR'),\n",
       " (4, 'jack', 'daniels', 22, None, 'WA'),\n",
       " (5, 'jane', 'austen', 22, None, None)]"
      ]
     },
     "execution_count": 36,
     "metadata": {},
     "output_type": "execute_result"
    }
   ],
   "source": [
    "%%sql\n",
    "SELECT * FROM customers"
   ]
  },
  {
   "cell_type": "code",
   "execution_count": 37,
   "id": "b67ec017",
   "metadata": {},
   "outputs": [
    {
     "name": "stdout",
     "output_type": "stream",
     "text": [
      "3 rows affected.\n"
     ]
    },
    {
     "data": {
      "text/html": [
       "<table>\n",
       "    <tr>\n",
       "        <th>id</th>\n",
       "        <th>name</th>\n",
       "        <th>price</th>\n",
       "    </tr>\n",
       "    <tr>\n",
       "        <td>1</td>\n",
       "        <td>xbox</td>\n",
       "        <td>299.95</td>\n",
       "    </tr>\n",
       "    <tr>\n",
       "        <td>2</td>\n",
       "        <td>ps5</td>\n",
       "        <td>399.00</td>\n",
       "    </tr>\n",
       "    <tr>\n",
       "        <td>3</td>\n",
       "        <td>ps6</td>\n",
       "        <td>None</td>\n",
       "    </tr>\n",
       "</table>"
      ],
      "text/plain": [
       "[(1, 'xbox', Decimal('299.95')),\n",
       " (2, 'ps5', Decimal('399.00')),\n",
       " (3, 'ps6', None)]"
      ]
     },
     "execution_count": 37,
     "metadata": {},
     "output_type": "execute_result"
    }
   ],
   "source": [
    "%%sql\n",
    "SELECT * FROM products"
   ]
  },
  {
   "cell_type": "code",
   "execution_count": 38,
   "id": "f5b5aa8f",
   "metadata": {},
   "outputs": [
    {
     "name": "stdout",
     "output_type": "stream",
     "text": [
      "4 rows affected.\n"
     ]
    },
    {
     "data": {
      "text/html": [
       "<table>\n",
       "    <tr>\n",
       "        <th>id</th>\n",
       "        <th>custid</th>\n",
       "        <th>prodid</th>\n",
       "        <th>qty</th>\n",
       "        <th>date</th>\n",
       "    </tr>\n",
       "    <tr>\n",
       "        <td>1</td>\n",
       "        <td>1</td>\n",
       "        <td>2</td>\n",
       "        <td>1</td>\n",
       "        <td>2020-01-01 00:00:00</td>\n",
       "    </tr>\n",
       "    <tr>\n",
       "        <td>2</td>\n",
       "        <td>2</td>\n",
       "        <td>1</td>\n",
       "        <td>1</td>\n",
       "        <td>2020-01-02 00:00:00</td>\n",
       "    </tr>\n",
       "    <tr>\n",
       "        <td>3</td>\n",
       "        <td>4</td>\n",
       "        <td>1</td>\n",
       "        <td>2</td>\n",
       "        <td>2020-02-03 00:00:00</td>\n",
       "    </tr>\n",
       "    <tr>\n",
       "        <td>18</td>\n",
       "        <td>1</td>\n",
       "        <td>1</td>\n",
       "        <td>99</td>\n",
       "        <td>2022-06-26 19:56:21.233966</td>\n",
       "    </tr>\n",
       "</table>"
      ],
      "text/plain": [
       "[(1, 1, 2, 1, datetime.datetime(2020, 1, 1, 0, 0)),\n",
       " (2, 2, 1, 1, datetime.datetime(2020, 1, 2, 0, 0)),\n",
       " (3, 4, 1, 2, datetime.datetime(2020, 2, 3, 0, 0)),\n",
       " (18, 1, 1, 99, datetime.datetime(2022, 6, 26, 19, 56, 21, 233966))]"
      ]
     },
     "execution_count": 38,
     "metadata": {},
     "output_type": "execute_result"
    }
   ],
   "source": [
    "%%sql\n",
    "SELECT * FROM orders"
   ]
  },
  {
   "cell_type": "markdown",
   "id": "4765c444",
   "metadata": {},
   "source": [
    "### 9.1 JOIN (Inner/Default)"
   ]
  },
  {
   "cell_type": "code",
   "execution_count": 39,
   "id": "b834db1f",
   "metadata": {},
   "outputs": [
    {
     "name": "stdout",
     "output_type": "stream",
     "text": [
      "2 rows affected.\n"
     ]
    },
    {
     "data": {
      "text/html": [
       "<table>\n",
       "    <tr>\n",
       "        <th>id</th>\n",
       "        <th>state</th>\n",
       "        <th>name</th>\n",
       "    </tr>\n",
       "    <tr>\n",
       "        <td>2</td>\n",
       "        <td>OR</td>\n",
       "        <td>Oregon</td>\n",
       "    </tr>\n",
       "    <tr>\n",
       "        <td>1</td>\n",
       "        <td>OR</td>\n",
       "        <td>Oregon</td>\n",
       "    </tr>\n",
       "</table>"
      ],
      "text/plain": [
       "[(2, 'OR', 'Oregon'), (1, 'OR', 'Oregon')]"
      ]
     },
     "execution_count": 39,
     "metadata": {},
     "output_type": "execute_result"
    }
   ],
   "source": [
    "%%sql\n",
    "SELECT customers.id, customers.state, states.name\n",
    "FROM customers\n",
    "JOIN states ON customers.state=states.state;"
   ]
  },
  {
   "cell_type": "code",
   "execution_count": 40,
   "id": "6cfe010c",
   "metadata": {},
   "outputs": [
    {
     "name": "stdout",
     "output_type": "stream",
     "text": [
      "4 rows affected.\n"
     ]
    },
    {
     "data": {
      "text/html": [
       "<table>\n",
       "    <tr>\n",
       "        <th>firstname</th>\n",
       "        <th>lastname</th>\n",
       "        <th>Product Name</th>\n",
       "        <th>qty</th>\n",
       "    </tr>\n",
       "    <tr>\n",
       "        <td>jane</td>\n",
       "        <td>doe</td>\n",
       "        <td>ps5</td>\n",
       "        <td>1</td>\n",
       "    </tr>\n",
       "    <tr>\n",
       "        <td>john</td>\n",
       "        <td>doe</td>\n",
       "        <td>xbox</td>\n",
       "        <td>1</td>\n",
       "    </tr>\n",
       "    <tr>\n",
       "        <td>jack</td>\n",
       "        <td>daniels</td>\n",
       "        <td>xbox</td>\n",
       "        <td>2</td>\n",
       "    </tr>\n",
       "    <tr>\n",
       "        <td>jane</td>\n",
       "        <td>doe</td>\n",
       "        <td>xbox</td>\n",
       "        <td>99</td>\n",
       "    </tr>\n",
       "</table>"
      ],
      "text/plain": [
       "[('jane', 'doe', 'ps5', 1),\n",
       " ('john', 'doe', 'xbox', 1),\n",
       " ('jack', 'daniels', 'xbox', 2),\n",
       " ('jane', 'doe', 'xbox', 99)]"
      ]
     },
     "execution_count": 40,
     "metadata": {},
     "output_type": "execute_result"
    }
   ],
   "source": [
    "%%sql\n",
    "SELECT customers.firstName, customers.lastName, products.name AS \"Product Name\", orders.qty\n",
    "FROM customers\n",
    "JOIN orders ON customers.id=orders.custId\n",
    "JOIN products ON orders.prodId=products.id;"
   ]
  },
  {
   "cell_type": "code",
   "execution_count": 41,
   "id": "f1d7c24d",
   "metadata": {},
   "outputs": [
    {
     "name": "stdout",
     "output_type": "stream",
     "text": [
      "4 rows affected.\n"
     ]
    },
    {
     "data": {
      "text/html": [
       "<table>\n",
       "    <tr>\n",
       "        <th>firstname</th>\n",
       "        <th>lastname</th>\n",
       "        <th>name</th>\n",
       "        <th>price</th>\n",
       "        <th>qty</th>\n",
       "    </tr>\n",
       "    <tr>\n",
       "        <td>jane</td>\n",
       "        <td>doe</td>\n",
       "        <td>ps5</td>\n",
       "        <td>399.00</td>\n",
       "        <td>1</td>\n",
       "    </tr>\n",
       "    <tr>\n",
       "        <td>john</td>\n",
       "        <td>doe</td>\n",
       "        <td>xbox</td>\n",
       "        <td>299.95</td>\n",
       "        <td>1</td>\n",
       "    </tr>\n",
       "    <tr>\n",
       "        <td>jack</td>\n",
       "        <td>daniels</td>\n",
       "        <td>xbox</td>\n",
       "        <td>299.95</td>\n",
       "        <td>2</td>\n",
       "    </tr>\n",
       "    <tr>\n",
       "        <td>jane</td>\n",
       "        <td>doe</td>\n",
       "        <td>xbox</td>\n",
       "        <td>299.95</td>\n",
       "        <td>99</td>\n",
       "    </tr>\n",
       "</table>"
      ],
      "text/plain": [
       "[('jane', 'doe', 'ps5', Decimal('399.00'), 1),\n",
       " ('john', 'doe', 'xbox', Decimal('299.95'), 1),\n",
       " ('jack', 'daniels', 'xbox', Decimal('299.95'), 2),\n",
       " ('jane', 'doe', 'xbox', Decimal('299.95'), 99)]"
      ]
     },
     "execution_count": 41,
     "metadata": {},
     "output_type": "execute_result"
    }
   ],
   "source": [
    "%%sql\n",
    "SELECT c.firstName, c.lastName, p.name, p.price, o.qty\n",
    "FROM orders AS o\n",
    "JOIN customers AS c ON o.custid=c.id\n",
    "JOIN products AS p ON o.prodid=p.id"
   ]
  },
  {
   "cell_type": "code",
   "execution_count": 42,
   "id": "caa7aa80",
   "metadata": {},
   "outputs": [
    {
     "name": "stdout",
     "output_type": "stream",
     "text": [
      "4 rows affected.\n"
     ]
    },
    {
     "data": {
      "text/html": [
       "<table>\n",
       "    <tr>\n",
       "        <th>firstname</th>\n",
       "        <th>lastname</th>\n",
       "        <th>id</th>\n",
       "    </tr>\n",
       "    <tr>\n",
       "        <td>jane</td>\n",
       "        <td>doe</td>\n",
       "        <td>1</td>\n",
       "    </tr>\n",
       "    <tr>\n",
       "        <td>john</td>\n",
       "        <td>doe</td>\n",
       "        <td>2</td>\n",
       "    </tr>\n",
       "    <tr>\n",
       "        <td>jack</td>\n",
       "        <td>daniels</td>\n",
       "        <td>3</td>\n",
       "    </tr>\n",
       "    <tr>\n",
       "        <td>jane</td>\n",
       "        <td>doe</td>\n",
       "        <td>18</td>\n",
       "    </tr>\n",
       "</table>"
      ],
      "text/plain": [
       "[('jane', 'doe', 1),\n",
       " ('john', 'doe', 2),\n",
       " ('jack', 'daniels', 3),\n",
       " ('jane', 'doe', 18)]"
      ]
     },
     "execution_count": 42,
     "metadata": {},
     "output_type": "execute_result"
    }
   ],
   "source": [
    "%%sql\n",
    "SELECT c.firstName, c.lastName, o.id\n",
    "FROM customers AS c\n",
    "JOIN orders AS o ON c.id=o.custId;"
   ]
  },
  {
   "cell_type": "markdown",
   "id": "a4afd06f",
   "metadata": {},
   "source": [
    "### 9.2 LEFT JOIN (Outer)"
   ]
  },
  {
   "cell_type": "code",
   "execution_count": 43,
   "id": "4a2f528d",
   "metadata": {},
   "outputs": [
    {
     "name": "stdout",
     "output_type": "stream",
     "text": [
      "4 rows affected.\n"
     ]
    },
    {
     "data": {
      "text/html": [
       "<table>\n",
       "    <tr>\n",
       "        <th>id</th>\n",
       "        <th>state</th>\n",
       "        <th>name</th>\n",
       "    </tr>\n",
       "    <tr>\n",
       "        <td>2</td>\n",
       "        <td>OR</td>\n",
       "        <td>Oregon</td>\n",
       "    </tr>\n",
       "    <tr>\n",
       "        <td>1</td>\n",
       "        <td>OR</td>\n",
       "        <td>Oregon</td>\n",
       "    </tr>\n",
       "    <tr>\n",
       "        <td>5</td>\n",
       "        <td>None</td>\n",
       "        <td>None</td>\n",
       "    </tr>\n",
       "    <tr>\n",
       "        <td>4</td>\n",
       "        <td>WA</td>\n",
       "        <td>None</td>\n",
       "    </tr>\n",
       "</table>"
      ],
      "text/plain": [
       "[(2, 'OR', 'Oregon'), (1, 'OR', 'Oregon'), (5, None, None), (4, 'WA', None)]"
      ]
     },
     "execution_count": 43,
     "metadata": {},
     "output_type": "execute_result"
    }
   ],
   "source": [
    "%%sql\n",
    "SELECT customers.id, customers.state, states.name\n",
    "FROM customers\n",
    "LEFT JOIN states ON customers.state=states.state;"
   ]
  },
  {
   "cell_type": "markdown",
   "id": "d13ef11b",
   "metadata": {},
   "source": [
    "### 9.3 RIGHT JOIN (Outer)"
   ]
  },
  {
   "cell_type": "code",
   "execution_count": 44,
   "id": "72690e21",
   "metadata": {},
   "outputs": [
    {
     "name": "stdout",
     "output_type": "stream",
     "text": [
      "3 rows affected.\n"
     ]
    },
    {
     "data": {
      "text/html": [
       "<table>\n",
       "    <tr>\n",
       "        <th>id</th>\n",
       "        <th>state</th>\n",
       "        <th>name</th>\n",
       "    </tr>\n",
       "    <tr>\n",
       "        <td>2</td>\n",
       "        <td>OR</td>\n",
       "        <td>Oregon</td>\n",
       "    </tr>\n",
       "    <tr>\n",
       "        <td>1</td>\n",
       "        <td>OR</td>\n",
       "        <td>Oregon</td>\n",
       "    </tr>\n",
       "    <tr>\n",
       "        <td>None</td>\n",
       "        <td>None</td>\n",
       "        <td>California</td>\n",
       "    </tr>\n",
       "</table>"
      ],
      "text/plain": [
       "[(2, 'OR', 'Oregon'), (1, 'OR', 'Oregon'), (None, None, 'California')]"
      ]
     },
     "execution_count": 44,
     "metadata": {},
     "output_type": "execute_result"
    }
   ],
   "source": [
    "%%sql\n",
    "SELECT customers.id, customers.state, states.name\n",
    "FROM customers\n",
    "RIGHT JOIN states ON customers.state=states.state;"
   ]
  },
  {
   "cell_type": "markdown",
   "id": "87ffcc65",
   "metadata": {},
   "source": [
    "## 10. Strings"
   ]
  },
  {
   "cell_type": "code",
   "execution_count": 45,
   "id": "50167af4",
   "metadata": {},
   "outputs": [
    {
     "name": "stdout",
     "output_type": "stream",
     "text": [
      "1 rows affected.\n"
     ]
    },
    {
     "data": {
      "text/html": [
       "<table>\n",
       "    <tr>\n",
       "        <th>?column?</th>\n",
       "        <th>concat</th>\n",
       "    </tr>\n",
       "    <tr>\n",
       "        <td>abc</td>\n",
       "        <td>abc</td>\n",
       "    </tr>\n",
       "</table>"
      ],
      "text/plain": [
       "[('abc', 'abc')]"
      ]
     },
     "execution_count": 45,
     "metadata": {},
     "output_type": "execute_result"
    }
   ],
   "source": [
    "%%sql\n",
    "SELECT 'a' || 'bc', CONCAT('a', 'bc');"
   ]
  },
  {
   "cell_type": "code",
   "execution_count": 46,
   "id": "9fa97bd5",
   "metadata": {},
   "outputs": [
    {
     "name": "stdout",
     "output_type": "stream",
     "text": [
      "3 rows affected.\n"
     ]
    },
    {
     "data": {
      "text/html": [
       "<table>\n",
       "    <tr>\n",
       "        <th>name</th>\n",
       "        <th>len</th>\n",
       "    </tr>\n",
       "    <tr>\n",
       "        <td>ps5</td>\n",
       "        <td>3</td>\n",
       "    </tr>\n",
       "    <tr>\n",
       "        <td>ps6</td>\n",
       "        <td>3</td>\n",
       "    </tr>\n",
       "    <tr>\n",
       "        <td>xbox</td>\n",
       "        <td>4</td>\n",
       "    </tr>\n",
       "</table>"
      ],
      "text/plain": [
       "[('ps5', 3), ('ps6', 3), ('xbox', 4)]"
      ]
     },
     "execution_count": 46,
     "metadata": {},
     "output_type": "execute_result"
    }
   ],
   "source": [
    "%%sql\n",
    "SELECT name, LENGTH(name) AS len FROM products ORDER BY len, name;"
   ]
  },
  {
   "cell_type": "code",
   "execution_count": 47,
   "id": "3c0593b6",
   "metadata": {},
   "outputs": [
    {
     "name": "stdout",
     "output_type": "stream",
     "text": [
      "1 rows affected.\n"
     ]
    },
    {
     "data": {
      "text/html": [
       "<table>\n",
       "    <tr>\n",
       "        <th>lower</th>\n",
       "    </tr>\n",
       "    <tr>\n",
       "        <td>abc</td>\n",
       "    </tr>\n",
       "</table>"
      ],
      "text/plain": [
       "[('abc',)]"
      ]
     },
     "execution_count": 47,
     "metadata": {},
     "output_type": "execute_result"
    }
   ],
   "source": [
    "%%sql\n",
    "SELECT LOWER /*UPPER*/ ('aBc');"
   ]
  },
  {
   "cell_type": "code",
   "execution_count": 48,
   "id": "c6f98590",
   "metadata": {},
   "outputs": [
    {
     "name": "stdout",
     "output_type": "stream",
     "text": [
      "1 rows affected.\n"
     ]
    },
    {
     "data": {
      "text/html": [
       "<table>\n",
       "    <tr>\n",
       "        <th>day</th>\n",
       "        <th>substr</th>\n",
       "    </tr>\n",
       "    <tr>\n",
       "        <td>14</td>\n",
       "        <td>bc</td>\n",
       "    </tr>\n",
       "</table>"
      ],
      "text/plain": [
       "[('14', 'bc')]"
      ]
     },
     "execution_count": 48,
     "metadata": {},
     "output_type": "execute_result"
    }
   ],
   "source": [
    "%%sql\n",
    "SELECT SUBSTR('2022-02-14', 9, 2) AS day, SUBSTR('abc', 2);"
   ]
  },
  {
   "cell_type": "code",
   "execution_count": 49,
   "id": "ff878991",
   "metadata": {},
   "outputs": [
    {
     "name": "stdout",
     "output_type": "stream",
     "text": [
      "1 rows affected.\n"
     ]
    },
    {
     "data": {
      "text/html": [
       "<table>\n",
       "    <tr>\n",
       "        <th>btrim</th>\n",
       "    </tr>\n",
       "    <tr>\n",
       "        <td>abc</td>\n",
       "    </tr>\n",
       "</table>"
      ],
      "text/plain": [
       "[('abc',)]"
      ]
     },
     "execution_count": 49,
     "metadata": {},
     "output_type": "execute_result"
    }
   ],
   "source": [
    "%%sql\n",
    "SELECT TRIM /*LTRIM,RTRIM*/ ('-abc-', '-');"
   ]
  },
  {
   "cell_type": "code",
   "execution_count": 50,
   "id": "00d4e8d3",
   "metadata": {},
   "outputs": [
    {
     "name": "stdout",
     "output_type": "stream",
     "text": [
      "1 rows affected.\n"
     ]
    },
    {
     "data": {
      "text/html": [
       "<table>\n",
       "    <tr>\n",
       "        <th>?column?</th>\n",
       "    </tr>\n",
       "    <tr>\n",
       "        <td>False</td>\n",
       "    </tr>\n",
       "</table>"
      ],
      "text/plain": [
       "[(False,)]"
      ]
     },
     "execution_count": 50,
     "metadata": {},
     "output_type": "execute_result"
    }
   ],
   "source": [
    "%%sql\n",
    "SELECT 'ab'='aB'"
   ]
  },
  {
   "cell_type": "markdown",
   "id": "71d60f87",
   "metadata": {},
   "source": [
    "## 11. Numbers"
   ]
  },
  {
   "cell_type": "code",
   "execution_count": 51,
   "id": "a50d4006",
   "metadata": {},
   "outputs": [
    {
     "name": "stdout",
     "output_type": "stream",
     "text": [
      "1 rows affected.\n"
     ]
    },
    {
     "data": {
      "text/html": [
       "<table>\n",
       "    <tr>\n",
       "        <th>1/2</th>\n",
       "        <th>1%2</th>\n",
       "    </tr>\n",
       "    <tr>\n",
       "        <td>0</td>\n",
       "        <td>1</td>\n",
       "    </tr>\n",
       "</table>"
      ],
      "text/plain": [
       "[(0, 1)]"
      ]
     },
     "execution_count": 51,
     "metadata": {},
     "output_type": "execute_result"
    }
   ],
   "source": [
    "%%sql\n",
    "SELECT 1 / 2 AS \"1/2\", 1 % 2 AS \"1%2\";"
   ]
  },
  {
   "cell_type": "code",
   "execution_count": 52,
   "id": "18ea5c94",
   "metadata": {},
   "outputs": [
    {
     "name": "stdout",
     "output_type": "stream",
     "text": [
      "1 rows affected.\n"
     ]
    },
    {
     "data": {
      "text/html": [
       "<table>\n",
       "    <tr>\n",
       "        <th>round</th>\n",
       "    </tr>\n",
       "    <tr>\n",
       "        <td>2</td>\n",
       "    </tr>\n",
       "</table>"
      ],
      "text/plain": [
       "[(Decimal('2'),)]"
      ]
     },
     "execution_count": 52,
     "metadata": {},
     "output_type": "execute_result"
    }
   ],
   "source": [
    "%%sql\n",
    "SELECT ROUND(1.51);"
   ]
  },
  {
   "cell_type": "markdown",
   "id": "1e1c24d2",
   "metadata": {},
   "source": [
    "## 12. Transactions"
   ]
  },
  {
   "cell_type": "code",
   "execution_count": 53,
   "id": "2da9caf7",
   "metadata": {},
   "outputs": [
    {
     "name": "stdout",
     "output_type": "stream",
     "text": [
      "Done.\n",
      "1 rows affected.\n",
      "2 rows affected.\n",
      "Done.\n",
      "3 rows affected.\n"
     ]
    },
    {
     "data": {
      "text/html": [
       "<table>\n",
       "    <tr>\n",
       "        <th>id</th>\n",
       "        <th>custid</th>\n",
       "        <th>prodid</th>\n",
       "        <th>qty</th>\n",
       "        <th>date</th>\n",
       "    </tr>\n",
       "    <tr>\n",
       "        <td>1</td>\n",
       "        <td>1</td>\n",
       "        <td>2</td>\n",
       "        <td>1</td>\n",
       "        <td>2020-01-01 00:00:00</td>\n",
       "    </tr>\n",
       "    <tr>\n",
       "        <td>2</td>\n",
       "        <td>2</td>\n",
       "        <td>1</td>\n",
       "        <td>1</td>\n",
       "        <td>2020-01-02 00:00:00</td>\n",
       "    </tr>\n",
       "    <tr>\n",
       "        <td>3</td>\n",
       "        <td>4</td>\n",
       "        <td>1</td>\n",
       "        <td>2</td>\n",
       "        <td>2020-02-03 00:00:00</td>\n",
       "    </tr>\n",
       "</table>"
      ],
      "text/plain": [
       "[(1, 1, 2, 1, datetime.datetime(2020, 1, 1, 0, 0)),\n",
       " (2, 2, 1, 1, datetime.datetime(2020, 1, 2, 0, 0)),\n",
       " (3, 4, 1, 2, datetime.datetime(2020, 2, 3, 0, 0))]"
      ]
     },
     "execution_count": 53,
     "metadata": {},
     "output_type": "execute_result"
    }
   ],
   "source": [
    "%%sql /* SQLite */\n",
    "BEGIN TRANSACTION;\n",
    "INSERT INTO orders (custId, prodId, qty) VALUES (1, 1, 99);\n",
    "DELETE FROM orders WHERE qty=99;\n",
    "END TRANSACTION;\n",
    "SELECT * from orders;"
   ]
  },
  {
   "cell_type": "code",
   "execution_count": 54,
   "id": "efa76ff9",
   "metadata": {},
   "outputs": [
    {
     "name": "stdout",
     "output_type": "stream",
     "text": [
      "Done.\n",
      "1 rows affected.\n",
      "Done.\n",
      "4 rows affected.\n"
     ]
    },
    {
     "data": {
      "text/html": [
       "<table>\n",
       "    <tr>\n",
       "        <th>id</th>\n",
       "        <th>custid</th>\n",
       "        <th>prodid</th>\n",
       "        <th>qty</th>\n",
       "        <th>date</th>\n",
       "    </tr>\n",
       "    <tr>\n",
       "        <td>1</td>\n",
       "        <td>1</td>\n",
       "        <td>2</td>\n",
       "        <td>1</td>\n",
       "        <td>2020-01-01 00:00:00</td>\n",
       "    </tr>\n",
       "    <tr>\n",
       "        <td>2</td>\n",
       "        <td>2</td>\n",
       "        <td>1</td>\n",
       "        <td>1</td>\n",
       "        <td>2020-01-02 00:00:00</td>\n",
       "    </tr>\n",
       "    <tr>\n",
       "        <td>3</td>\n",
       "        <td>4</td>\n",
       "        <td>1</td>\n",
       "        <td>2</td>\n",
       "        <td>2020-02-03 00:00:00</td>\n",
       "    </tr>\n",
       "    <tr>\n",
       "        <td>20</td>\n",
       "        <td>1</td>\n",
       "        <td>1</td>\n",
       "        <td>99</td>\n",
       "        <td>2022-06-26 19:56:32.214131</td>\n",
       "    </tr>\n",
       "</table>"
      ],
      "text/plain": [
       "[(1, 1, 2, 1, datetime.datetime(2020, 1, 1, 0, 0)),\n",
       " (2, 2, 1, 1, datetime.datetime(2020, 1, 2, 0, 0)),\n",
       " (3, 4, 1, 2, datetime.datetime(2020, 2, 3, 0, 0)),\n",
       " (20, 1, 1, 99, datetime.datetime(2022, 6, 26, 19, 56, 32, 214131))]"
      ]
     },
     "execution_count": 54,
     "metadata": {},
     "output_type": "execute_result"
    }
   ],
   "source": [
    "%%sql /* SQLite */\n",
    "BEGIN TRANSACTION;\n",
    "INSERT INTO orders (custId, prodId, qty) VALUES (1, 1, 99);\n",
    "ROLLBACK;\n",
    "SELECT * from orders;"
   ]
  },
  {
   "cell_type": "markdown",
   "id": "c5330c9b",
   "metadata": {},
   "source": [
    "## 13. Triggers"
   ]
  },
  {
   "cell_type": "code",
   "execution_count": null,
   "id": "6faee942",
   "metadata": {},
   "outputs": [],
   "source": [
    "%%sql /* SQLite */\n",
    "CREATE TRIGGER my_trigger AFTER INSERT ON products\n",
    "BEGIN\n",
    "    UPDATE products SET price=0.95*price WHERE id=NEW.id;\n",
    "END;"
   ]
  },
  {
   "cell_type": "markdown",
   "id": "15f6748e",
   "metadata": {},
   "source": [
    "## 14. Procedures"
   ]
  },
  {
   "cell_type": "code",
   "execution_count": 55,
   "id": "6c78f8e7",
   "metadata": {},
   "outputs": [
    {
     "name": "stdout",
     "output_type": "stream",
     "text": [
      "Done.\n"
     ]
    },
    {
     "data": {
      "text/plain": [
       "[]"
      ]
     },
     "execution_count": 55,
     "metadata": {},
     "output_type": "execute_result"
    }
   ],
   "source": [
    "%%sql\n",
    "CREATE PROCEDURE insert_delete(first_name VARCHAR, last_name VARCHAR, age INT)\n",
    "BEGIN ATOMIC\n",
    "INSERT INTO customers (firstName, lastName, age) VALUES\n",
    "(first_name, last_name, age);\n",
    "DELETE FROM customers\n",
    "WHERE firstName=first_name AND lastName=last_name;\n",
    "END;"
   ]
  },
  {
   "cell_type": "code",
   "execution_count": 56,
   "id": "f2626ac5",
   "metadata": {},
   "outputs": [
    {
     "name": "stdout",
     "output_type": "stream",
     "text": [
      "Done.\n",
      "Done.\n"
     ]
    },
    {
     "data": {
      "text/plain": [
       "[]"
      ]
     },
     "execution_count": 56,
     "metadata": {},
     "output_type": "execute_result"
    }
   ],
   "source": [
    "%%sql\n",
    "CALL insert_delete('joe', 'shmoe', 2);\n",
    "DROP PROCEDURE insert_delete;"
   ]
  },
  {
   "cell_type": "markdown",
   "id": "0170feb8",
   "metadata": {},
   "source": [
    "## 15. Subselects"
   ]
  },
  {
   "cell_type": "code",
   "execution_count": 57,
   "id": "6c5674a2",
   "metadata": {},
   "outputs": [
    {
     "name": "stdout",
     "output_type": "stream",
     "text": [
      "1 rows affected.\n"
     ]
    },
    {
     "data": {
      "text/html": [
       "<table>\n",
       "    <tr>\n",
       "        <th>id</th>\n",
       "        <th>custid</th>\n",
       "        <th>prodid</th>\n",
       "        <th>qty</th>\n",
       "        <th>date</th>\n",
       "    </tr>\n",
       "    <tr>\n",
       "        <td>1</td>\n",
       "        <td>1</td>\n",
       "        <td>2</td>\n",
       "        <td>1</td>\n",
       "        <td>2020-01-01 00:00:00</td>\n",
       "    </tr>\n",
       "</table>"
      ],
      "text/plain": [
       "[(1, 1, 2, 1, datetime.datetime(2020, 1, 1, 0, 0))]"
      ]
     },
     "execution_count": 57,
     "metadata": {},
     "output_type": "execute_result"
    }
   ],
   "source": [
    "%%sql\n",
    "SELECT * FROM orders WHERE prodId IN (SELECT id FROM products WHERE price>300);"
   ]
  },
  {
   "cell_type": "code",
   "execution_count": 58,
   "id": "15937f41",
   "metadata": {},
   "outputs": [
    {
     "name": "stdout",
     "output_type": "stream",
     "text": [
      "2 rows affected.\n"
     ]
    },
    {
     "data": {
      "text/html": [
       "<table>\n",
       "    <tr>\n",
       "        <th>firstname</th>\n",
       "        <th>lastname</th>\n",
       "        <th>qty</th>\n",
       "        <th>name</th>\n",
       "    </tr>\n",
       "    <tr>\n",
       "        <td>jack</td>\n",
       "        <td>daniels</td>\n",
       "        <td>2</td>\n",
       "        <td>xbox</td>\n",
       "    </tr>\n",
       "    <tr>\n",
       "        <td>jane</td>\n",
       "        <td>doe</td>\n",
       "        <td>99</td>\n",
       "        <td>xbox</td>\n",
       "    </tr>\n",
       "</table>"
      ],
      "text/plain": [
       "[('jack', 'daniels', 2, 'xbox'), ('jane', 'doe', 99, 'xbox')]"
      ]
     },
     "execution_count": 58,
     "metadata": {},
     "output_type": "execute_result"
    }
   ],
   "source": [
    "%%sql\n",
    "SELECT firstName, lastName, ss.qty, products.name\n",
    "FROM (SELECT custId, prodId, qty FROM orders WHERE qty>1) AS ss\n",
    "JOIN customers ON ss.custId=customers.id\n",
    "JOIN products ON ss.prodId=products.id;"
   ]
  },
  {
   "cell_type": "markdown",
   "id": "b209fffa",
   "metadata": {},
   "source": [
    "## 16. ANY"
   ]
  },
  {
   "cell_type": "code",
   "execution_count": 59,
   "id": "ef1a9afc",
   "metadata": {},
   "outputs": [
    {
     "name": "stdout",
     "output_type": "stream",
     "text": [
      "2 rows affected.\n"
     ]
    },
    {
     "data": {
      "text/html": [
       "<table>\n",
       "    <tr>\n",
       "        <th>name</th>\n",
       "    </tr>\n",
       "    <tr>\n",
       "        <td>xbox</td>\n",
       "    </tr>\n",
       "    <tr>\n",
       "        <td>ps5</td>\n",
       "    </tr>\n",
       "</table>"
      ],
      "text/plain": [
       "[('xbox',), ('ps5',)]"
      ]
     },
     "execution_count": 59,
     "metadata": {},
     "output_type": "execute_result"
    }
   ],
   "source": [
    "%%sql\n",
    "SELECT name FROM products\n",
    "WHERE id = ANY\n",
    "(SELECT prodId FROM orders WHERE qty=1);"
   ]
  },
  {
   "cell_type": "markdown",
   "id": "ac12e34a",
   "metadata": {},
   "source": [
    "## 17. CASE ... WHEN ... THEN ... ELSE ... END"
   ]
  },
  {
   "cell_type": "code",
   "execution_count": 60,
   "id": "62ec35e9",
   "metadata": {},
   "outputs": [
    {
     "name": "stdout",
     "output_type": "stream",
     "text": [
      "4 rows affected.\n"
     ]
    },
    {
     "data": {
      "text/html": [
       "<table>\n",
       "    <tr>\n",
       "        <th>id</th>\n",
       "        <th>custid</th>\n",
       "        <th>prodid</th>\n",
       "        <th>qty</th>\n",
       "        <th>date</th>\n",
       "        <th>comments</th>\n",
       "    </tr>\n",
       "    <tr>\n",
       "        <td>1</td>\n",
       "        <td>1</td>\n",
       "        <td>2</td>\n",
       "        <td>1</td>\n",
       "        <td>2020-01-01 00:00:00</td>\n",
       "        <td>normal</td>\n",
       "    </tr>\n",
       "    <tr>\n",
       "        <td>2</td>\n",
       "        <td>2</td>\n",
       "        <td>1</td>\n",
       "        <td>1</td>\n",
       "        <td>2020-01-02 00:00:00</td>\n",
       "        <td>normal</td>\n",
       "    </tr>\n",
       "    <tr>\n",
       "        <td>3</td>\n",
       "        <td>4</td>\n",
       "        <td>1</td>\n",
       "        <td>2</td>\n",
       "        <td>2020-02-03 00:00:00</td>\n",
       "        <td>normal</td>\n",
       "    </tr>\n",
       "    <tr>\n",
       "        <td>20</td>\n",
       "        <td>1</td>\n",
       "        <td>1</td>\n",
       "        <td>99</td>\n",
       "        <td>2022-06-26 19:56:32.214131</td>\n",
       "        <td>whoa!</td>\n",
       "    </tr>\n",
       "</table>"
      ],
      "text/plain": [
       "[(1, 1, 2, 1, datetime.datetime(2020, 1, 1, 0, 0), 'normal'),\n",
       " (2, 2, 1, 1, datetime.datetime(2020, 1, 2, 0, 0), 'normal'),\n",
       " (3, 4, 1, 2, datetime.datetime(2020, 2, 3, 0, 0), 'normal'),\n",
       " (20, 1, 1, 99, datetime.datetime(2022, 6, 26, 19, 56, 32, 214131), 'whoa!')]"
      ]
     },
     "execution_count": 60,
     "metadata": {},
     "output_type": "execute_result"
    }
   ],
   "source": [
    "%%sql\n",
    "SELECT *,\n",
    "CASE\n",
    "  WHEN qty>50 THEN 'whoa!'\n",
    "  ELSE 'normal'\n",
    "END AS comments\n",
    "FROM orders"
   ]
  },
  {
   "cell_type": "code",
   "execution_count": null,
   "id": "e8d474a7",
   "metadata": {},
   "outputs": [],
   "source": []
  }
 ],
 "metadata": {
  "kernelspec": {
   "display_name": "Python 3 (ipykernel)",
   "language": "python",
   "name": "python3"
  },
  "language_info": {
   "codemirror_mode": {
    "name": "ipython",
    "version": 3
   },
   "file_extension": ".py",
   "mimetype": "text/x-python",
   "name": "python",
   "nbconvert_exporter": "python",
   "pygments_lexer": "ipython3",
   "version": "3.9.10"
  }
 },
 "nbformat": 4,
 "nbformat_minor": 5
}
