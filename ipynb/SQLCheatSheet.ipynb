{
 "cells": [
  {
   "cell_type": "markdown",
   "id": "dc39afe3",
   "metadata": {},
   "source": [
    "# SQL Cheat Sheet"
   ]
  },
  {
   "cell_type": "code",
   "execution_count": 1,
   "id": "2d88cfc1",
   "metadata": {},
   "outputs": [],
   "source": [
    "# !pip install ipython-sql\n",
    "# !pip install psycopg2  # PostgreSQL\n",
    "# !pip install mysql  # MySQL"
   ]
  },
  {
   "cell_type": "code",
   "execution_count": 2,
   "id": "8d7245da",
   "metadata": {},
   "outputs": [],
   "source": [
    "SQL_CONN = 'postgresql://wing@localhost/wing'\n",
    "\n",
    "%config SqlMagic.displaycon=False\n",
    "%load_ext sql\n",
    "%sql {SQL_CONN}"
   ]
  },
  {
   "cell_type": "markdown",
   "id": "d2378489",
   "metadata": {},
   "source": [
    "## Tables & Types"
   ]
  },
  {
   "cell_type": "code",
   "execution_count": 3,
   "id": "071e1431",
   "metadata": {},
   "outputs": [
    {
     "name": "stdout",
     "output_type": "stream",
     "text": [
      "(psycopg2.errors.DuplicateObject) type \"t_grade\" already exists\n",
      "\n",
      "[SQL: CREATE TYPE t_grade AS ENUM('A', 'B' , 'C' , 'D' );]\n",
      "(Background on this error at: https://sqlalche.me/e/14/f405)\n"
     ]
    }
   ],
   "source": [
    "%sql CREATE TYPE t_grade AS ENUM('A', 'B', 'C', 'D');"
   ]
  },
  {
   "cell_type": "code",
   "execution_count": 4,
   "id": "bdfc100b",
   "metadata": {},
   "outputs": [
    {
     "name": "stdout",
     "output_type": "stream",
     "text": [
      "Done.\n",
      "Done.\n"
     ]
    },
    {
     "data": {
      "text/plain": [
       "[]"
      ]
     },
     "execution_count": 4,
     "metadata": {},
     "output_type": "execute_result"
    }
   ],
   "source": [
    "%%sql\n",
    "CREATE TABLE advisors (\n",
    "    id SERIAL PRIMARY KEY,\n",
    "    name VARCHAR(255) NOT NULL\n",
    ");\n",
    "\n",
    "CREATE TABLE students (\n",
    "    id SERIAL PRIMARY KEY,\n",
    "    name VARCHAR(255) NOT NULL,\n",
    "    age INT NOT NULL,\n",
    "    height DECIMAL(8,2),\n",
    "    grade t_grade,\n",
    "    advisorId INT NOT NULL,\n",
    "    created TIMESTAMP DEFAULT CURRENT_TIMESTAMP,\n",
    "    FOREIGN KEY(advisorId) REFERENCES advisors(id)\n",
    ");"
   ]
  },
  {
   "cell_type": "code",
   "execution_count": 5,
   "id": "c793e854",
   "metadata": {},
   "outputs": [
    {
     "name": "stdout",
     "output_type": "stream",
     "text": [
      "Done.\n",
      "Done.\n"
     ]
    },
    {
     "data": {
      "text/plain": [
       "[]"
      ]
     },
     "execution_count": 5,
     "metadata": {},
     "output_type": "execute_result"
    }
   ],
   "source": [
    "%%sql\n",
    "ALTER TABLE advisors\n",
    "ADD telephone VARCHAR(255);\n",
    "\n",
    "ALTER TABLE advisors\n",
    "DROP COLUMN telephone;"
   ]
  },
  {
   "cell_type": "code",
   "execution_count": 6,
   "id": "9562d856",
   "metadata": {},
   "outputs": [
    {
     "name": "stdout",
     "output_type": "stream",
     "text": [
      "Done.\n",
      "Done.\n"
     ]
    },
    {
     "data": {
      "text/plain": [
       "[]"
      ]
     },
     "execution_count": 6,
     "metadata": {},
     "output_type": "execute_result"
    }
   ],
   "source": [
    "%%sql\n",
    "DROP TABLE students;\n",
    "DROP TABLE advisors;"
   ]
  },
  {
   "cell_type": "markdown",
   "id": "b79a7bcb",
   "metadata": {},
   "source": [
    "## Views"
   ]
  },
  {
   "cell_type": "code",
   "execution_count": 7,
   "id": "2d635745",
   "metadata": {},
   "outputs": [
    {
     "name": "stdout",
     "output_type": "stream",
     "text": [
      "Done.\n",
      "4 rows affected.\n"
     ]
    },
    {
     "data": {
      "text/html": [
       "<table>\n",
       "    <tr>\n",
       "        <th>firstname</th>\n",
       "        <th>lastname</th>\n",
       "    </tr>\n",
       "    <tr>\n",
       "        <td>jane</td>\n",
       "        <td>doe</td>\n",
       "    </tr>\n",
       "    <tr>\n",
       "        <td>john</td>\n",
       "        <td>doe</td>\n",
       "    </tr>\n",
       "    <tr>\n",
       "        <td>jane</td>\n",
       "        <td>austen</td>\n",
       "    </tr>\n",
       "    <tr>\n",
       "        <td>jack</td>\n",
       "        <td>daniels</td>\n",
       "    </tr>\n",
       "</table>"
      ],
      "text/plain": [
       "[('jane', 'doe'), ('john', 'doe'), ('jane', 'austen'), ('jack', 'daniels')]"
      ]
     },
     "execution_count": 7,
     "metadata": {},
     "output_type": "execute_result"
    }
   ],
   "source": [
    "%%sql\n",
    "CREATE VIEW cust_names AS\n",
    "SELECT firstName, lastName FROM customers;\n",
    "\n",
    "SELECT * from cust_names"
   ]
  },
  {
   "cell_type": "code",
   "execution_count": 8,
   "id": "6ac42df1",
   "metadata": {},
   "outputs": [
    {
     "name": "stdout",
     "output_type": "stream",
     "text": [
      "Done.\n"
     ]
    },
    {
     "data": {
      "text/plain": [
       "[]"
      ]
     },
     "execution_count": 8,
     "metadata": {},
     "output_type": "execute_result"
    }
   ],
   "source": [
    "%%sql\n",
    "DROP VIEW cust_names"
   ]
  },
  {
   "cell_type": "markdown",
   "id": "12a1bb73",
   "metadata": {},
   "source": [
    "## Records"
   ]
  },
  {
   "cell_type": "code",
   "execution_count": 9,
   "id": "f17c0d87",
   "metadata": {},
   "outputs": [
    {
     "name": "stdout",
     "output_type": "stream",
     "text": [
      "1 rows affected.\n"
     ]
    },
    {
     "data": {
      "text/plain": [
       "[]"
      ]
     },
     "execution_count": 9,
     "metadata": {},
     "output_type": "execute_result"
    }
   ],
   "source": [
    "%%sql\n",
    "INSERT INTO customers (firstName, lastName, age) VALUES\n",
    "('jack', 'daniels', 99);"
   ]
  },
  {
   "cell_type": "code",
   "execution_count": 10,
   "id": "18de1f1d",
   "metadata": {},
   "outputs": [
    {
     "name": "stdout",
     "output_type": "stream",
     "text": [
      "1 rows affected.\n"
     ]
    },
    {
     "data": {
      "text/plain": [
       "[]"
      ]
     },
     "execution_count": 10,
     "metadata": {},
     "output_type": "execute_result"
    }
   ],
   "source": [
    "%%sql\n",
    "UPDATE customers SET\n",
    "email='jack@daniels.net',\n",
    "state='CA'\n",
    "WHERE lastname='daniels' AND age=99;"
   ]
  },
  {
   "cell_type": "code",
   "execution_count": 11,
   "id": "d4d6474f",
   "metadata": {},
   "outputs": [
    {
     "name": "stdout",
     "output_type": "stream",
     "text": [
      "1 rows affected.\n"
     ]
    },
    {
     "data": {
      "text/plain": [
       "[]"
      ]
     },
     "execution_count": 11,
     "metadata": {},
     "output_type": "execute_result"
    }
   ],
   "source": [
    "%%sql\n",
    "UPDATE customers SET\n",
    "age=age-1\n",
    "WHERE lastname='daniels' AND age=99;"
   ]
  },
  {
   "cell_type": "code",
   "execution_count": 12,
   "id": "ed3586d6",
   "metadata": {},
   "outputs": [
    {
     "name": "stdout",
     "output_type": "stream",
     "text": [
      "1 rows affected.\n"
     ]
    },
    {
     "data": {
      "text/plain": [
       "[]"
      ]
     },
     "execution_count": 12,
     "metadata": {},
     "output_type": "execute_result"
    }
   ],
   "source": [
    "%%sql\n",
    "DELETE FROM customers\n",
    "WHERE firstName='jack' AND age=98;"
   ]
  },
  {
   "cell_type": "markdown",
   "id": "e0b761df",
   "metadata": {},
   "source": [
    "## PROCEDURE"
   ]
  },
  {
   "cell_type": "code",
   "execution_count": 13,
   "id": "aea1c0f4",
   "metadata": {},
   "outputs": [
    {
     "name": "stdout",
     "output_type": "stream",
     "text": [
      "Done.\n"
     ]
    },
    {
     "data": {
      "text/plain": [
       "[]"
      ]
     },
     "execution_count": 13,
     "metadata": {},
     "output_type": "execute_result"
    }
   ],
   "source": [
    "%%sql\n",
    "CREATE PROCEDURE insert_delete(first_name VARCHAR, last_name VARCHAR, age INT)\n",
    "BEGIN ATOMIC\n",
    "INSERT INTO customers (firstName, lastName, age) VALUES\n",
    "(first_name, last_name, age);\n",
    "DELETE FROM customers\n",
    "WHERE firstName=first_name and lastName=last_name;\n",
    "END;"
   ]
  },
  {
   "cell_type": "code",
   "execution_count": 14,
   "id": "b1251f58",
   "metadata": {},
   "outputs": [
    {
     "name": "stdout",
     "output_type": "stream",
     "text": [
      "Done.\n",
      "Done.\n"
     ]
    },
    {
     "data": {
      "text/plain": [
       "[]"
      ]
     },
     "execution_count": 14,
     "metadata": {},
     "output_type": "execute_result"
    }
   ],
   "source": [
    "%%sql\n",
    "CALL insert_delete('joe', 'shmoe', 2);\n",
    "DROP PROCEDURE insert_delete;"
   ]
  },
  {
   "cell_type": "markdown",
   "id": "a09b6a37",
   "metadata": {},
   "source": [
    "## SELECT"
   ]
  },
  {
   "cell_type": "markdown",
   "id": "6a704ec0",
   "metadata": {},
   "source": [
    "SELECT ... (AS ...) FROM ... (AS ...) WHERE ... GROUP BY ... HAVING ... ORDER BY ..."
   ]
  },
  {
   "cell_type": "code",
   "execution_count": 15,
   "id": "ed298d1f",
   "metadata": {},
   "outputs": [
    {
     "name": "stdout",
     "output_type": "stream",
     "text": [
      "4 rows affected.\n"
     ]
    },
    {
     "data": {
      "text/html": [
       "<table>\n",
       "    <tr>\n",
       "        <th>id</th>\n",
       "        <th>firstname</th>\n",
       "        <th>lastname</th>\n",
       "        <th>age</th>\n",
       "        <th>email</th>\n",
       "        <th>state</th>\n",
       "    </tr>\n",
       "    <tr>\n",
       "        <td>5</td>\n",
       "        <td>jane</td>\n",
       "        <td>austen</td>\n",
       "        <td>22</td>\n",
       "        <td>None</td>\n",
       "        <td>None</td>\n",
       "    </tr>\n",
       "    <tr>\n",
       "        <td>4</td>\n",
       "        <td>jack</td>\n",
       "        <td>daniels</td>\n",
       "        <td>20</td>\n",
       "        <td>None</td>\n",
       "        <td>WA</td>\n",
       "    </tr>\n",
       "    <tr>\n",
       "        <td>2</td>\n",
       "        <td>john</td>\n",
       "        <td>doe</td>\n",
       "        <td>19</td>\n",
       "        <td>john@doe.com</td>\n",
       "        <td>OR</td>\n",
       "    </tr>\n",
       "    <tr>\n",
       "        <td>1</td>\n",
       "        <td>jane</td>\n",
       "        <td>doe</td>\n",
       "        <td>18</td>\n",
       "        <td>jane@doe.com</td>\n",
       "        <td>OR</td>\n",
       "    </tr>\n",
       "</table>"
      ],
      "text/plain": [
       "[(5, 'jane', 'austen', 22, None, None),\n",
       " (4, 'jack', 'daniels', 20, None, 'WA'),\n",
       " (2, 'john', 'doe', 19, 'john@doe.com', 'OR'),\n",
       " (1, 'jane', 'doe', 18, 'jane@doe.com', 'OR')]"
      ]
     },
     "execution_count": 15,
     "metadata": {},
     "output_type": "execute_result"
    }
   ],
   "source": [
    "%%sql\n",
    "SELECT * from customers ORDER BY age DESC;"
   ]
  },
  {
   "cell_type": "code",
   "execution_count": 16,
   "id": "c3dbe2c7",
   "metadata": {},
   "outputs": [
    {
     "name": "stdout",
     "output_type": "stream",
     "text": [
      "4 rows affected.\n"
     ]
    },
    {
     "data": {
      "text/html": [
       "<table>\n",
       "    <tr>\n",
       "        <th>name</th>\n",
       "        <th>age_plus_1</th>\n",
       "    </tr>\n",
       "    <tr>\n",
       "        <td>jane doe</td>\n",
       "        <td>19</td>\n",
       "    </tr>\n",
       "    <tr>\n",
       "        <td>john doe</td>\n",
       "        <td>20</td>\n",
       "    </tr>\n",
       "    <tr>\n",
       "        <td>jane austen</td>\n",
       "        <td>23</td>\n",
       "    </tr>\n",
       "    <tr>\n",
       "        <td>jack daniels</td>\n",
       "        <td>21</td>\n",
       "    </tr>\n",
       "</table>"
      ],
      "text/plain": [
       "[('jane doe', 19), ('john doe', 20), ('jane austen', 23), ('jack daniels', 21)]"
      ]
     },
     "execution_count": 16,
     "metadata": {},
     "output_type": "execute_result"
    }
   ],
   "source": [
    "%%sql\n",
    "SELECT CONCAT(firstName, ' ', lastName) AS name, age + 1 AS age_plus_1 from customers;"
   ]
  },
  {
   "cell_type": "code",
   "execution_count": 17,
   "id": "004310c3",
   "metadata": {},
   "outputs": [
    {
     "name": "stdout",
     "output_type": "stream",
     "text": [
      "1 rows affected.\n"
     ]
    },
    {
     "data": {
      "text/html": [
       "<table>\n",
       "    <tr>\n",
       "        <th>min</th>\n",
       "    </tr>\n",
       "    <tr>\n",
       "        <td>18</td>\n",
       "    </tr>\n",
       "</table>"
      ],
      "text/plain": [
       "[(18,)]"
      ]
     },
     "execution_count": 17,
     "metadata": {},
     "output_type": "execute_result"
    }
   ],
   "source": [
    "%%sql\n",
    "SELECT MIN(age) from customers; -- also: MAX()"
   ]
  },
  {
   "cell_type": "code",
   "execution_count": 18,
   "id": "8c936536",
   "metadata": {},
   "outputs": [
    {
     "name": "stdout",
     "output_type": "stream",
     "text": [
      "1 rows affected.\n"
     ]
    },
    {
     "data": {
      "text/html": [
       "<table>\n",
       "    <tr>\n",
       "        <th>avg</th>\n",
       "    </tr>\n",
       "    <tr>\n",
       "        <td>19.7500000000000000</td>\n",
       "    </tr>\n",
       "</table>"
      ],
      "text/plain": [
       "[(Decimal('19.7500000000000000'),)]"
      ]
     },
     "execution_count": 18,
     "metadata": {},
     "output_type": "execute_result"
    }
   ],
   "source": [
    "%%sql\n",
    "SELECT AVG(age) from customers; -- also: SUM()"
   ]
  },
  {
   "cell_type": "code",
   "execution_count": 19,
   "id": "8a945d19",
   "metadata": {},
   "outputs": [
    {
     "name": "stdout",
     "output_type": "stream",
     "text": [
      "1 rows affected.\n"
     ]
    },
    {
     "data": {
      "text/html": [
       "<table>\n",
       "    <tr>\n",
       "        <th>count</th>\n",
       "    </tr>\n",
       "    <tr>\n",
       "        <td>1</td>\n",
       "    </tr>\n",
       "</table>"
      ],
      "text/plain": [
       "[(1,)]"
      ]
     },
     "execution_count": 19,
     "metadata": {},
     "output_type": "execute_result"
    }
   ],
   "source": [
    "%%sql\n",
    "SELECT COUNT(*) from customers where age>20;"
   ]
  },
  {
   "cell_type": "markdown",
   "id": "316042b2",
   "metadata": {},
   "source": [
    "## GROUP BY  &  HAVING"
   ]
  },
  {
   "cell_type": "code",
   "execution_count": 20,
   "id": "76f234a7",
   "metadata": {},
   "outputs": [
    {
     "name": "stdout",
     "output_type": "stream",
     "text": [
      "3 rows affected.\n"
     ]
    },
    {
     "data": {
      "text/html": [
       "<table>\n",
       "    <tr>\n",
       "        <th>lastname</th>\n",
       "        <th>count</th>\n",
       "    </tr>\n",
       "    <tr>\n",
       "        <td>daniels</td>\n",
       "        <td>1</td>\n",
       "    </tr>\n",
       "    <tr>\n",
       "        <td>austen</td>\n",
       "        <td>1</td>\n",
       "    </tr>\n",
       "    <tr>\n",
       "        <td>doe</td>\n",
       "        <td>2</td>\n",
       "    </tr>\n",
       "</table>"
      ],
      "text/plain": [
       "[('daniels', 1), ('austen', 1), ('doe', 2)]"
      ]
     },
     "execution_count": 20,
     "metadata": {},
     "output_type": "execute_result"
    }
   ],
   "source": [
    "%sql SELECT lastName, COUNT(lastName) FROM customers GROUP BY lastName;"
   ]
  },
  {
   "cell_type": "code",
   "execution_count": 21,
   "id": "c7b0785a",
   "metadata": {},
   "outputs": [
    {
     "name": "stdout",
     "output_type": "stream",
     "text": [
      "1 rows affected.\n"
     ]
    },
    {
     "data": {
      "text/html": [
       "<table>\n",
       "    <tr>\n",
       "        <th>lastname</th>\n",
       "        <th>count</th>\n",
       "    </tr>\n",
       "    <tr>\n",
       "        <td>doe</td>\n",
       "        <td>2</td>\n",
       "    </tr>\n",
       "</table>"
      ],
      "text/plain": [
       "[('doe', 2)]"
      ]
     },
     "execution_count": 21,
     "metadata": {},
     "output_type": "execute_result"
    }
   ],
   "source": [
    "%sql SELECT lastName, COUNT(lastName) FROM customers GROUP BY lastName HAVING COUNT(lastName)>1;"
   ]
  },
  {
   "cell_type": "markdown",
   "id": "cbe76190",
   "metadata": {},
   "source": [
    "## WHERE"
   ]
  },
  {
   "cell_type": "code",
   "execution_count": 22,
   "id": "89b04f0f",
   "metadata": {},
   "outputs": [
    {
     "name": "stdout",
     "output_type": "stream",
     "text": [
      "1 rows affected.\n"
     ]
    },
    {
     "data": {
      "text/html": [
       "<table>\n",
       "    <tr>\n",
       "        <th>id</th>\n",
       "        <th>firstname</th>\n",
       "        <th>lastname</th>\n",
       "        <th>age</th>\n",
       "        <th>email</th>\n",
       "        <th>state</th>\n",
       "    </tr>\n",
       "    <tr>\n",
       "        <td>2</td>\n",
       "        <td>john</td>\n",
       "        <td>doe</td>\n",
       "        <td>19</td>\n",
       "        <td>john@doe.com</td>\n",
       "        <td>OR</td>\n",
       "    </tr>\n",
       "</table>"
      ],
      "text/plain": [
       "[(2, 'john', 'doe', 19, 'john@doe.com', 'OR')]"
      ]
     },
     "execution_count": 22,
     "metadata": {},
     "output_type": "execute_result"
    }
   ],
   "source": [
    "%sql SELECT * from customers WHERE firstname='john' AND lastname='doe';"
   ]
  },
  {
   "cell_type": "code",
   "execution_count": 23,
   "id": "c306d6a1",
   "metadata": {},
   "outputs": [
    {
     "name": "stdout",
     "output_type": "stream",
     "text": [
      "2 rows affected.\n"
     ]
    },
    {
     "data": {
      "text/html": [
       "<table>\n",
       "    <tr>\n",
       "        <th>id</th>\n",
       "        <th>firstname</th>\n",
       "        <th>lastname</th>\n",
       "        <th>age</th>\n",
       "        <th>email</th>\n",
       "        <th>state</th>\n",
       "    </tr>\n",
       "    <tr>\n",
       "        <td>5</td>\n",
       "        <td>jane</td>\n",
       "        <td>austen</td>\n",
       "        <td>22</td>\n",
       "        <td>None</td>\n",
       "        <td>None</td>\n",
       "    </tr>\n",
       "    <tr>\n",
       "        <td>4</td>\n",
       "        <td>jack</td>\n",
       "        <td>daniels</td>\n",
       "        <td>20</td>\n",
       "        <td>None</td>\n",
       "        <td>WA</td>\n",
       "    </tr>\n",
       "</table>"
      ],
      "text/plain": [
       "[(5, 'jane', 'austen', 22, None, None), (4, 'jack', 'daniels', 20, None, 'WA')]"
      ]
     },
     "execution_count": 23,
     "metadata": {},
     "output_type": "execute_result"
    }
   ],
   "source": [
    "%sql SELECT * from customers WHERE age>=20;"
   ]
  },
  {
   "cell_type": "code",
   "execution_count": 24,
   "id": "1f67cc7c",
   "metadata": {},
   "outputs": [
    {
     "name": "stdout",
     "output_type": "stream",
     "text": [
      "2 rows affected.\n"
     ]
    },
    {
     "data": {
      "text/html": [
       "<table>\n",
       "    <tr>\n",
       "        <th>id</th>\n",
       "        <th>firstname</th>\n",
       "        <th>lastname</th>\n",
       "        <th>age</th>\n",
       "        <th>email</th>\n",
       "        <th>state</th>\n",
       "    </tr>\n",
       "    <tr>\n",
       "        <td>1</td>\n",
       "        <td>jane</td>\n",
       "        <td>doe</td>\n",
       "        <td>18</td>\n",
       "        <td>jane@doe.com</td>\n",
       "        <td>OR</td>\n",
       "    </tr>\n",
       "    <tr>\n",
       "        <td>2</td>\n",
       "        <td>john</td>\n",
       "        <td>doe</td>\n",
       "        <td>19</td>\n",
       "        <td>john@doe.com</td>\n",
       "        <td>OR</td>\n",
       "    </tr>\n",
       "</table>"
      ],
      "text/plain": [
       "[(1, 'jane', 'doe', 18, 'jane@doe.com', 'OR'),\n",
       " (2, 'john', 'doe', 19, 'john@doe.com', 'OR')]"
      ]
     },
     "execution_count": 24,
     "metadata": {},
     "output_type": "execute_result"
    }
   ],
   "source": [
    "%sql SELECT * from customers WHERE age BETWEEN 17 AND 19"
   ]
  },
  {
   "cell_type": "code",
   "execution_count": 25,
   "id": "b23bf4fe",
   "metadata": {},
   "outputs": [
    {
     "name": "stdout",
     "output_type": "stream",
     "text": [
      "2 rows affected.\n"
     ]
    },
    {
     "data": {
      "text/html": [
       "<table>\n",
       "    <tr>\n",
       "        <th>id</th>\n",
       "        <th>firstname</th>\n",
       "        <th>lastname</th>\n",
       "        <th>age</th>\n",
       "        <th>email</th>\n",
       "        <th>state</th>\n",
       "    </tr>\n",
       "    <tr>\n",
       "        <td>1</td>\n",
       "        <td>jane</td>\n",
       "        <td>doe</td>\n",
       "        <td>18</td>\n",
       "        <td>jane@doe.com</td>\n",
       "        <td>OR</td>\n",
       "    </tr>\n",
       "    <tr>\n",
       "        <td>5</td>\n",
       "        <td>jane</td>\n",
       "        <td>austen</td>\n",
       "        <td>22</td>\n",
       "        <td>None</td>\n",
       "        <td>None</td>\n",
       "    </tr>\n",
       "</table>"
      ],
      "text/plain": [
       "[(1, 'jane', 'doe', 18, 'jane@doe.com', 'OR'),\n",
       " (5, 'jane', 'austen', 22, None, None)]"
      ]
     },
     "execution_count": 25,
     "metadata": {},
     "output_type": "execute_result"
    }
   ],
   "source": [
    "%sql SELECT * from customers WHERE firstName LIKE 'jan%';"
   ]
  },
  {
   "cell_type": "code",
   "execution_count": 26,
   "id": "0feda484",
   "metadata": {},
   "outputs": [
    {
     "name": "stdout",
     "output_type": "stream",
     "text": [
      "1 rows affected.\n"
     ]
    },
    {
     "data": {
      "text/html": [
       "<table>\n",
       "    <tr>\n",
       "        <th>id</th>\n",
       "        <th>firstname</th>\n",
       "        <th>lastname</th>\n",
       "        <th>age</th>\n",
       "        <th>email</th>\n",
       "        <th>state</th>\n",
       "    </tr>\n",
       "    <tr>\n",
       "        <td>2</td>\n",
       "        <td>john</td>\n",
       "        <td>doe</td>\n",
       "        <td>19</td>\n",
       "        <td>john@doe.com</td>\n",
       "        <td>OR</td>\n",
       "    </tr>\n",
       "</table>"
      ],
      "text/plain": [
       "[(2, 'john', 'doe', 19, 'john@doe.com', 'OR')]"
      ]
     },
     "execution_count": 26,
     "metadata": {},
     "output_type": "execute_result"
    }
   ],
   "source": [
    "%sql SELECT * from customers WHERE firstName NOT LIKE 'ja__';"
   ]
  },
  {
   "cell_type": "code",
   "execution_count": 27,
   "id": "10bf30ca",
   "metadata": {},
   "outputs": [
    {
     "name": "stdout",
     "output_type": "stream",
     "text": [
      "2 rows affected.\n"
     ]
    },
    {
     "data": {
      "text/html": [
       "<table>\n",
       "    <tr>\n",
       "        <th>id</th>\n",
       "        <th>firstname</th>\n",
       "        <th>lastname</th>\n",
       "        <th>age</th>\n",
       "        <th>email</th>\n",
       "        <th>state</th>\n",
       "    </tr>\n",
       "    <tr>\n",
       "        <td>5</td>\n",
       "        <td>jane</td>\n",
       "        <td>austen</td>\n",
       "        <td>22</td>\n",
       "        <td>None</td>\n",
       "        <td>None</td>\n",
       "    </tr>\n",
       "    <tr>\n",
       "        <td>4</td>\n",
       "        <td>jack</td>\n",
       "        <td>daniels</td>\n",
       "        <td>20</td>\n",
       "        <td>None</td>\n",
       "        <td>WA</td>\n",
       "    </tr>\n",
       "</table>"
      ],
      "text/plain": [
       "[(5, 'jane', 'austen', 22, None, None), (4, 'jack', 'daniels', 20, None, 'WA')]"
      ]
     },
     "execution_count": 27,
     "metadata": {},
     "output_type": "execute_result"
    }
   ],
   "source": [
    "%sql SELECT * from customers WHERE lastName IN ('austen', 'daniels');"
   ]
  },
  {
   "cell_type": "code",
   "execution_count": 28,
   "id": "b13b3eb2",
   "metadata": {},
   "outputs": [
    {
     "name": "stdout",
     "output_type": "stream",
     "text": [
      "2 rows affected.\n"
     ]
    },
    {
     "data": {
      "text/html": [
       "<table>\n",
       "    <tr>\n",
       "        <th>id</th>\n",
       "        <th>firstname</th>\n",
       "        <th>lastname</th>\n",
       "        <th>age</th>\n",
       "        <th>email</th>\n",
       "        <th>state</th>\n",
       "    </tr>\n",
       "    <tr>\n",
       "        <td>5</td>\n",
       "        <td>jane</td>\n",
       "        <td>austen</td>\n",
       "        <td>22</td>\n",
       "        <td>None</td>\n",
       "        <td>None</td>\n",
       "    </tr>\n",
       "    <tr>\n",
       "        <td>4</td>\n",
       "        <td>jack</td>\n",
       "        <td>daniels</td>\n",
       "        <td>20</td>\n",
       "        <td>None</td>\n",
       "        <td>WA</td>\n",
       "    </tr>\n",
       "</table>"
      ],
      "text/plain": [
       "[(5, 'jane', 'austen', 22, None, None), (4, 'jack', 'daniels', 20, None, 'WA')]"
      ]
     },
     "execution_count": 28,
     "metadata": {},
     "output_type": "execute_result"
    }
   ],
   "source": [
    "%sql SELECT * from customers WHERE email IS NULL;\n",
    "# \"= NULL\" wouldn't work!"
   ]
  },
  {
   "cell_type": "markdown",
   "id": "139bd663",
   "metadata": {},
   "source": [
    "## JOIN"
   ]
  },
  {
   "cell_type": "code",
   "execution_count": 29,
   "id": "f431b44d",
   "metadata": {},
   "outputs": [
    {
     "name": "stdout",
     "output_type": "stream",
     "text": [
      "4 rows affected.\n"
     ]
    },
    {
     "data": {
      "text/html": [
       "<table>\n",
       "    <tr>\n",
       "        <th>id</th>\n",
       "        <th>firstname</th>\n",
       "        <th>lastname</th>\n",
       "        <th>age</th>\n",
       "        <th>email</th>\n",
       "        <th>state</th>\n",
       "    </tr>\n",
       "    <tr>\n",
       "        <td>1</td>\n",
       "        <td>jane</td>\n",
       "        <td>doe</td>\n",
       "        <td>18</td>\n",
       "        <td>jane@doe.com</td>\n",
       "        <td>OR</td>\n",
       "    </tr>\n",
       "    <tr>\n",
       "        <td>2</td>\n",
       "        <td>john</td>\n",
       "        <td>doe</td>\n",
       "        <td>19</td>\n",
       "        <td>john@doe.com</td>\n",
       "        <td>OR</td>\n",
       "    </tr>\n",
       "    <tr>\n",
       "        <td>5</td>\n",
       "        <td>jane</td>\n",
       "        <td>austen</td>\n",
       "        <td>22</td>\n",
       "        <td>None</td>\n",
       "        <td>None</td>\n",
       "    </tr>\n",
       "    <tr>\n",
       "        <td>4</td>\n",
       "        <td>jack</td>\n",
       "        <td>daniels</td>\n",
       "        <td>20</td>\n",
       "        <td>None</td>\n",
       "        <td>WA</td>\n",
       "    </tr>\n",
       "</table>"
      ],
      "text/plain": [
       "[(1, 'jane', 'doe', 18, 'jane@doe.com', 'OR'),\n",
       " (2, 'john', 'doe', 19, 'john@doe.com', 'OR'),\n",
       " (5, 'jane', 'austen', 22, None, None),\n",
       " (4, 'jack', 'daniels', 20, None, 'WA')]"
      ]
     },
     "execution_count": 29,
     "metadata": {},
     "output_type": "execute_result"
    }
   ],
   "source": [
    "%sql SELECT * FROM customers"
   ]
  },
  {
   "cell_type": "code",
   "execution_count": 30,
   "id": "b67ec017",
   "metadata": {},
   "outputs": [
    {
     "name": "stdout",
     "output_type": "stream",
     "text": [
      "3 rows affected.\n"
     ]
    },
    {
     "data": {
      "text/html": [
       "<table>\n",
       "    <tr>\n",
       "        <th>id</th>\n",
       "        <th>name</th>\n",
       "        <th>price</th>\n",
       "    </tr>\n",
       "    <tr>\n",
       "        <td>1</td>\n",
       "        <td>xbox</td>\n",
       "        <td>299.95</td>\n",
       "    </tr>\n",
       "    <tr>\n",
       "        <td>2</td>\n",
       "        <td>ps5</td>\n",
       "        <td>399.00</td>\n",
       "    </tr>\n",
       "    <tr>\n",
       "        <td>3</td>\n",
       "        <td>ps6</td>\n",
       "        <td>None</td>\n",
       "    </tr>\n",
       "</table>"
      ],
      "text/plain": [
       "[(1, 'xbox', Decimal('299.95')),\n",
       " (2, 'ps5', Decimal('399.00')),\n",
       " (3, 'ps6', None)]"
      ]
     },
     "execution_count": 30,
     "metadata": {},
     "output_type": "execute_result"
    }
   ],
   "source": [
    "%sql SELECT * FROM products"
   ]
  },
  {
   "cell_type": "code",
   "execution_count": 31,
   "id": "f5b5aa8f",
   "metadata": {},
   "outputs": [
    {
     "name": "stdout",
     "output_type": "stream",
     "text": [
      "3 rows affected.\n"
     ]
    },
    {
     "data": {
      "text/html": [
       "<table>\n",
       "    <tr>\n",
       "        <th>id</th>\n",
       "        <th>custid</th>\n",
       "        <th>prodid</th>\n",
       "        <th>qty</th>\n",
       "        <th>date</th>\n",
       "    </tr>\n",
       "    <tr>\n",
       "        <td>1</td>\n",
       "        <td>1</td>\n",
       "        <td>2</td>\n",
       "        <td>1</td>\n",
       "        <td>2020-01-01 00:00:00</td>\n",
       "    </tr>\n",
       "    <tr>\n",
       "        <td>2</td>\n",
       "        <td>2</td>\n",
       "        <td>1</td>\n",
       "        <td>1</td>\n",
       "        <td>2020-01-02 00:00:00</td>\n",
       "    </tr>\n",
       "    <tr>\n",
       "        <td>3</td>\n",
       "        <td>4</td>\n",
       "        <td>1</td>\n",
       "        <td>2</td>\n",
       "        <td>2020-02-03 00:00:00</td>\n",
       "    </tr>\n",
       "</table>"
      ],
      "text/plain": [
       "[(1, 1, 2, 1, datetime.datetime(2020, 1, 1, 0, 0)),\n",
       " (2, 2, 1, 1, datetime.datetime(2020, 1, 2, 0, 0)),\n",
       " (3, 4, 1, 2, datetime.datetime(2020, 2, 3, 0, 0))]"
      ]
     },
     "execution_count": 31,
     "metadata": {},
     "output_type": "execute_result"
    }
   ],
   "source": [
    "%sql SELECT * FROM orders"
   ]
  },
  {
   "cell_type": "code",
   "execution_count": 32,
   "id": "6cfe010c",
   "metadata": {},
   "outputs": [
    {
     "name": "stdout",
     "output_type": "stream",
     "text": [
      "3 rows affected.\n"
     ]
    },
    {
     "data": {
      "text/html": [
       "<table>\n",
       "    <tr>\n",
       "        <th>firstname</th>\n",
       "        <th>lastname</th>\n",
       "        <th>Product Name</th>\n",
       "        <th>qty</th>\n",
       "    </tr>\n",
       "    <tr>\n",
       "        <td>jane</td>\n",
       "        <td>doe</td>\n",
       "        <td>ps5</td>\n",
       "        <td>1</td>\n",
       "    </tr>\n",
       "    <tr>\n",
       "        <td>john</td>\n",
       "        <td>doe</td>\n",
       "        <td>xbox</td>\n",
       "        <td>1</td>\n",
       "    </tr>\n",
       "    <tr>\n",
       "        <td>jack</td>\n",
       "        <td>daniels</td>\n",
       "        <td>xbox</td>\n",
       "        <td>2</td>\n",
       "    </tr>\n",
       "</table>"
      ],
      "text/plain": [
       "[('jane', 'doe', 'ps5', 1),\n",
       " ('john', 'doe', 'xbox', 1),\n",
       " ('jack', 'daniels', 'xbox', 2)]"
      ]
     },
     "execution_count": 32,
     "metadata": {},
     "output_type": "execute_result"
    }
   ],
   "source": [
    "%%sql\n",
    "SELECT customers.firstName, customers.lastName, products.name AS \"Product Name\", orders.qty\n",
    "FROM customers\n",
    "JOIN orders ON customers.id=orders.custId\n",
    "JOIN products ON orders.prodId=products.id;"
   ]
  },
  {
   "cell_type": "code",
   "execution_count": 33,
   "id": "caa7aa80",
   "metadata": {},
   "outputs": [
    {
     "name": "stdout",
     "output_type": "stream",
     "text": [
      "3 rows affected.\n"
     ]
    },
    {
     "data": {
      "text/html": [
       "<table>\n",
       "    <tr>\n",
       "        <th>firstname</th>\n",
       "        <th>lastname</th>\n",
       "        <th>id</th>\n",
       "    </tr>\n",
       "    <tr>\n",
       "        <td>jane</td>\n",
       "        <td>doe</td>\n",
       "        <td>1</td>\n",
       "    </tr>\n",
       "    <tr>\n",
       "        <td>john</td>\n",
       "        <td>doe</td>\n",
       "        <td>2</td>\n",
       "    </tr>\n",
       "    <tr>\n",
       "        <td>jack</td>\n",
       "        <td>daniels</td>\n",
       "        <td>3</td>\n",
       "    </tr>\n",
       "</table>"
      ],
      "text/plain": [
       "[('jane', 'doe', 1), ('john', 'doe', 2), ('jack', 'daniels', 3)]"
      ]
     },
     "execution_count": 33,
     "metadata": {},
     "output_type": "execute_result"
    }
   ],
   "source": [
    "%%sql\n",
    "SELECT c.firstName, c.lastName, o.id\n",
    "FROM customers AS c\n",
    "JOIN orders AS o ON c.id=o.custId;"
   ]
  },
  {
   "cell_type": "code",
   "execution_count": 34,
   "id": "b834db1f",
   "metadata": {},
   "outputs": [
    {
     "name": "stdout",
     "output_type": "stream",
     "text": [
      "2 rows affected.\n"
     ]
    },
    {
     "data": {
      "text/html": [
       "<table>\n",
       "    <tr>\n",
       "        <th>id</th>\n",
       "        <th>state</th>\n",
       "        <th>name</th>\n",
       "    </tr>\n",
       "    <tr>\n",
       "        <td>2</td>\n",
       "        <td>OR</td>\n",
       "        <td>Oregon</td>\n",
       "    </tr>\n",
       "    <tr>\n",
       "        <td>1</td>\n",
       "        <td>OR</td>\n",
       "        <td>Oregon</td>\n",
       "    </tr>\n",
       "</table>"
      ],
      "text/plain": [
       "[(2, 'OR', 'Oregon'), (1, 'OR', 'Oregon')]"
      ]
     },
     "execution_count": 34,
     "metadata": {},
     "output_type": "execute_result"
    }
   ],
   "source": [
    "%%sql\n",
    "SELECT customers.id, customers.state, states.name\n",
    "FROM customers\n",
    "JOIN states ON customers.state=states.state;"
   ]
  },
  {
   "cell_type": "code",
   "execution_count": 35,
   "id": "4a2f528d",
   "metadata": {},
   "outputs": [
    {
     "name": "stdout",
     "output_type": "stream",
     "text": [
      "4 rows affected.\n"
     ]
    },
    {
     "data": {
      "text/html": [
       "<table>\n",
       "    <tr>\n",
       "        <th>id</th>\n",
       "        <th>state</th>\n",
       "        <th>name</th>\n",
       "    </tr>\n",
       "    <tr>\n",
       "        <td>2</td>\n",
       "        <td>OR</td>\n",
       "        <td>Oregon</td>\n",
       "    </tr>\n",
       "    <tr>\n",
       "        <td>1</td>\n",
       "        <td>OR</td>\n",
       "        <td>Oregon</td>\n",
       "    </tr>\n",
       "    <tr>\n",
       "        <td>5</td>\n",
       "        <td>None</td>\n",
       "        <td>None</td>\n",
       "    </tr>\n",
       "    <tr>\n",
       "        <td>4</td>\n",
       "        <td>WA</td>\n",
       "        <td>None</td>\n",
       "    </tr>\n",
       "</table>"
      ],
      "text/plain": [
       "[(2, 'OR', 'Oregon'), (1, 'OR', 'Oregon'), (5, None, None), (4, 'WA', None)]"
      ]
     },
     "execution_count": 35,
     "metadata": {},
     "output_type": "execute_result"
    }
   ],
   "source": [
    "%%sql\n",
    "SELECT customers.id, customers.state, states.name\n",
    "FROM customers\n",
    "LEFT JOIN states ON customers.state=states.state;"
   ]
  },
  {
   "cell_type": "code",
   "execution_count": 36,
   "id": "72690e21",
   "metadata": {},
   "outputs": [
    {
     "name": "stdout",
     "output_type": "stream",
     "text": [
      "3 rows affected.\n"
     ]
    },
    {
     "data": {
      "text/html": [
       "<table>\n",
       "    <tr>\n",
       "        <th>id</th>\n",
       "        <th>state</th>\n",
       "        <th>name</th>\n",
       "    </tr>\n",
       "    <tr>\n",
       "        <td>2</td>\n",
       "        <td>OR</td>\n",
       "        <td>Oregon</td>\n",
       "    </tr>\n",
       "    <tr>\n",
       "        <td>1</td>\n",
       "        <td>OR</td>\n",
       "        <td>Oregon</td>\n",
       "    </tr>\n",
       "    <tr>\n",
       "        <td>None</td>\n",
       "        <td>None</td>\n",
       "        <td>California</td>\n",
       "    </tr>\n",
       "</table>"
      ],
      "text/plain": [
       "[(2, 'OR', 'Oregon'), (1, 'OR', 'Oregon'), (None, None, 'California')]"
      ]
     },
     "execution_count": 36,
     "metadata": {},
     "output_type": "execute_result"
    }
   ],
   "source": [
    "%%sql\n",
    "SELECT customers.id, customers.state, states.name\n",
    "FROM customers\n",
    "RIGHT JOIN states ON customers.state=states.state;"
   ]
  },
  {
   "cell_type": "code",
   "execution_count": null,
   "id": "f5bb35c2",
   "metadata": {},
   "outputs": [],
   "source": []
  }
 ],
 "metadata": {
  "kernelspec": {
   "display_name": "Python 3 (ipykernel)",
   "language": "python",
   "name": "python3"
  },
  "language_info": {
   "codemirror_mode": {
    "name": "ipython",
    "version": 3
   },
   "file_extension": ".py",
   "mimetype": "text/x-python",
   "name": "python",
   "nbconvert_exporter": "python",
   "pygments_lexer": "ipython3",
   "version": "3.9.10"
  }
 },
 "nbformat": 4,
 "nbformat_minor": 5
}
